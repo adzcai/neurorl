{
 "cells": [
  {
   "cell_type": "code",
   "execution_count": 136,
   "id": "c0ce35e6-d58a-4d5e-a66f-4620a707cc16",
   "metadata": {},
   "outputs": [
    {
     "name": "stdout",
     "output_type": "stream",
     "text": [
      "Initial Keys:\n",
      "[('key', 'yellow'), ('key', 'red'), ('key', 'grey'), ('key', 'purple')]\n",
      "Sets of Pairs:\n",
      "[[('box', 'yellow'), ('ball', 'green')],\n",
      " [('box', 'green'), ('key', 'blue')],\n",
      " [('box', 'blue'), ('ball', 'red')],\n",
      " [('ball', 'blue'), ('box', 'grey')]]\n"
     ]
    }
   ],
   "source": [
    "import numpy as np\n",
    "import random\n",
    "\n",
    "# Colors and object types\n",
    "COLORS = {\n",
    "    \"red\": np.array([255, 0, 0]),\n",
    "    \"green\": np.array([0, 255, 0]),\n",
    "    \"blue\": np.array([0, 0, 255]),\n",
    "    \"purple\": np.array([112, 39, 195]),\n",
    "    \"yellow\": np.array([255, 255, 0]),\n",
    "    \"grey\": np.array([100, 100, 100]),\n",
    "}\n",
    "OBJECT_TYPES = [\"key\", \"ball\", \"box\"]\n",
    "\n",
    "# Function to create the maze\n",
    "def create_maze(colors, object_types):\n",
    "    # Select 4 random colors for initial keys\n",
    "    initial_key_colors = random.sample(colors, 4)\n",
    "    initial_keys = [(\"key\", color) for color in initial_key_colors]\n",
    "\n",
    "    # Create all possible pairs\n",
    "    all_pairs = [(obj_type, color) for obj_type in object_types for color in colors]\n",
    "\n",
    "    # Remove initial key pairs from all pairs\n",
    "    remaining_pairs = [pair for pair in all_pairs if pair not in initial_keys]\n",
    "\n",
    "    # Select 8 unique pairs from the remaining pairs\n",
    "    selected_pairs = random.sample(remaining_pairs, 8)\n",
    "\n",
    "    # Split into 4 sets of 2\n",
    "    sets_of_pairs = [selected_pairs[i:i+2] for i in range(0, len(selected_pairs), 2)]\n",
    "\n",
    "    return initial_keys, sets_of_pairs\n",
    "\n",
    "# Create the maze\n",
    "initial_keys, sets_of_pairs = create_maze(list(COLORS.keys()), OBJECT_TYPES)\n",
    "\n",
    "from pprint import pprint\n",
    "print(\"Initial Keys:\")\n",
    "pprint(initial_keys)\n",
    "print(\"Sets of Pairs:\")\n",
    "pprint(sets_of_pairs)\n"
   ]
  },
  {
   "cell_type": "code",
   "execution_count": 151,
   "id": "b2991e3a-cf51-47b7-bb7d-6c424606ea70",
   "metadata": {},
   "outputs": [
    {
     "name": "stdout",
     "output_type": "stream",
     "text": [
      "Initial Keys:\n",
      "[('key', 'grey'), ('key', 'purple'), ('key', 'green'), ('key', 'blue')]\n",
      "Sets of Pairs:\n",
      "[(('box', 'green'), ('ball', 'green')),\n",
      " (('ball', 'red'), ('ball', 'yellow')),\n",
      " (('key', 'yellow'), ('key', 'red')),\n",
      " (('box', 'grey'), ('ball', 'grey'))]\n"
     ]
    }
   ],
   "source": [
    "# this one has the test pairs overlap in shape/color with the keys/training pairs\n",
    "def create_maze_overlap(colors, object_types):\n",
    "    # Select 4 random colors for initial keys\n",
    "    initial_key_colors = random.sample(colors, 4)\n",
    "    initial_keys = [(\"key\", color) for color in initial_key_colors]\n",
    "\n",
    "    # Create all possible pairs\n",
    "    all_pairs = [(obj_type, color) for obj_type in object_types for color in colors]\n",
    "\n",
    "    # Remove initial key pairs from all pairs\n",
    "    remaining_pairs = [pair for pair in all_pairs if pair not in initial_keys]\n",
    "\n",
    "    # Select 4 unique pairs from the remaining pairs\n",
    "    first_selected_pairs = random.sample(remaining_pairs, 4)\n",
    "\n",
    "    # Observe types and colors from these pairs\n",
    "    observed_types = set([pair[0] for pair in first_selected_pairs+initial_keys])\n",
    "    observed_colors = set([pair[1] for pair in first_selected_pairs+initial_keys])\n",
    "\n",
    "    # Create possible pairs from observed types and colors\n",
    "    possible_new_pairs = [(obj_type, color) for obj_type in observed_types for color in observed_colors]\n",
    "\n",
    "    # Remove already selected pairs\n",
    "    new_pairs_candidates = [pair for pair in possible_new_pairs if pair not in first_selected_pairs and pair not in initial_keys]\n",
    "\n",
    "    # Select 4 unique pairs from new pairs candidates\n",
    "    second_selected_pairs = random.sample(new_pairs_candidates, 4)\n",
    "\n",
    "    # Interleave first and second pairs to form 4 sets of 2\n",
    "    sets_of_pairs = [(first_selected_pairs[i], second_selected_pairs[i]) for i in range(4)]\n",
    "\n",
    "    return initial_keys, sets_of_pairs\n",
    "\n",
    "# Create the maze\n",
    "initial_keys, sets_of_pairs = create_maze_overlap(list(COLORS.keys()), OBJECT_TYPES)\n",
    "\n",
    "from pprint import pprint\n",
    "print(\"Initial Keys:\")\n",
    "pprint(initial_keys)\n",
    "print(\"Sets of Pairs:\")\n",
    "pprint(sets_of_pairs)\n"
   ]
  },
  {
   "cell_type": "code",
   "execution_count": 156,
   "id": "d79ce16a-9579-4afc-831b-c04d096de551",
   "metadata": {},
   "outputs": [
    {
     "name": "stdout",
     "output_type": "stream",
     "text": [
      "[{'keys': [('key', 'red'),\n",
      "           ('key', 'yellow'),\n",
      "           ('key', 'blue'),\n",
      "           ('key', 'purple')],\n",
      "  'pairs': [(('box', 'red'), ('key', 'green')),\n",
      "            (('ball', 'green'), ('ball', 'red')),\n",
      "            (('ball', 'blue'), ('box', 'yellow')),\n",
      "            (('box', 'purple'), ('ball', 'purple'))]},\n",
      " {'keys': [('key', 'yellow'),\n",
      "           ('key', 'green'),\n",
      "           ('key', 'grey'),\n",
      "           ('key', 'purple')],\n",
      "  'pairs': [(('ball', 'purple'), ('box', 'grey')),\n",
      "            (('ball', 'red'), ('box', 'yellow')),\n",
      "            (('box', 'green'), ('ball', 'green')),\n",
      "            (('box', 'purple'), ('ball', 'grey'))]},\n",
      " {'keys': [('key', 'yellow'),\n",
      "           ('key', 'blue'),\n",
      "           ('key', 'purple'),\n",
      "           ('key', 'grey')],\n",
      "  'pairs': [(('box', 'blue'), ('box', 'green')),\n",
      "            (('box', 'yellow'), ('box', 'red')),\n",
      "            (('key', 'red'), ('ball', 'blue')),\n",
      "            (('ball', 'green'), ('ball', 'yellow'))]},\n",
      " {'keys': [('key', 'green'),\n",
      "           ('key', 'blue'),\n",
      "           ('key', 'yellow'),\n",
      "           ('key', 'purple')],\n",
      "  'pairs': [(('key', 'red'), ('key', 'grey')),\n",
      "            (('box', 'yellow'), ('box', 'blue')),\n",
      "            (('ball', 'blue'), ('ball', 'red')),\n",
      "            (('ball', 'grey'), ('ball', 'yellow'))]},\n",
      " {'keys': [('key', 'grey'),\n",
      "           ('key', 'yellow'),\n",
      "           ('key', 'purple'),\n",
      "           ('key', 'green')],\n",
      "  'pairs': [(('box', 'red'), ('ball', 'purple')),\n",
      "            (('ball', 'yellow'), ('key', 'red')),\n",
      "            (('ball', 'red'), ('box', 'green')),\n",
      "            (('box', 'purple'), ('box', 'grey'))]}]\n",
      "Maze pairs saved to maze_pairs_shared.json\n"
     ]
    }
   ],
   "source": [
    "import json\n",
    "\n",
    "def create_n_pairs_of_mazes(n, colors, object_types, create_fn=create_maze):\n",
    "    pairs_of_mazes = []\n",
    "\n",
    "    for _ in range(n):\n",
    "        # Generate a pair of unique mazes\n",
    "        init_keys, room_pairs = create_fn(colors, object_types)\n",
    "        \n",
    "        # Ensure uniqueness in the pair\n",
    "        while init_keys in pairs_of_mazes or room_pairs in pairs_of_mazes or init_keys == room_pairs:\n",
    "            init_keys, room_pairs = create_fn(colors, object_types)\n",
    "        \n",
    "        pairs_of_mazes.append({'keys': init_keys, 'pairs': room_pairs})\n",
    "\n",
    "    return pairs_of_mazes\n",
    "\n",
    "shared_att = False\n",
    "if shared_att:\n",
    "    json_file = 'maze_pairs.json'\n",
    "    create_fn = create_maze\n",
    "else:\n",
    "    json_file = 'maze_pairs_shared.json'\n",
    "    create_fn = create_maze_overlap\n",
    "\n",
    "# Example usage\n",
    "n = 5  # Number of pairs of mazes to generate\n",
    "maze_pairs = create_n_pairs_of_mazes(n, list(COLORS.keys()), OBJECT_TYPES, create_fn=create_fn)\n",
    "pprint(maze_pairs)\n",
    "# Save to a JSON file\n",
    "\n",
    "\n",
    "with open(json_file, 'w') as file:\n",
    "    json.dump(maze_pairs, file, indent=4)\n",
    "\n",
    "print(f'Maze pairs saved to {json_file}')\n"
   ]
  },
  {
   "cell_type": "code",
   "execution_count": 11,
   "id": "ef6947a8-42b6-4071-9244-96f7104124a2",
   "metadata": {},
   "outputs": [
    {
     "name": "stdout",
     "output_type": "stream",
     "text": [
      "The autoreload extension is already loaded. To reload it, use:\n",
      "  %reload_ext autoreload\n"
     ]
    }
   ],
   "source": [
    "%load_ext autoreload\n",
    "%autoreload 2\n",
    "\n",
    "import sys\n",
    "sys.path.insert(0,'../..')"
   ]
  },
  {
   "cell_type": "code",
   "execution_count": 39,
   "id": "6ad9ca84-c678-4254-9276-7bb3906ad889",
   "metadata": {},
   "outputs": [
    {
     "name": "stdout",
     "output_type": "stream",
     "text": [
      "{'keys': [['key', 'red'], ['key', 'blue'], ['key', 'yellow'], ['key', 'green']],\n",
      " 'pairs': [[['ball', 'red'], ['box', 'yellow']],\n",
      "           [['key', 'purple'], ['box', 'purple']],\n",
      "           [['box', 'red'], ['box', 'green']],\n",
      "           [['box', 'grey'], ['box', 'blue']]]}\n"
     ]
    },
    {
     "data": {
      "text/plain": [
       "[['ball', 'red'], ['key', 'purple'], ['box', 'red'], ['box', 'grey']]"
      ]
     },
     "execution_count": 39,
     "metadata": {},
     "output_type": "execute_result"
    }
   ],
   "source": [
    "from projects.human_sf import key_room_v3 as key_room\n",
    "\n",
    "json_file = 'maze_pairs.json'\n",
    "with open(json_file, 'r') as file:\n",
    "    mazes = json.load(file)\n",
    "\n",
    "maze = mazes[0]\n",
    "pprint(maze)\n",
    "[p[0] for p in maze['pairs']]"
   ]
  },
  {
   "cell_type": "code",
   "execution_count": 177,
   "id": "a4d47a8d-c13a-4ba7-82be-cc9a4c09e7aa",
   "metadata": {},
   "outputs": [
    {
     "name": "stdout",
     "output_type": "stream",
     "text": [
      "{'keys': [['key', 'red'], ['key', 'blue'], ['key', 'yellow'], ['key', 'green']],\n",
      " 'pairs': [[['ball', 'red'], ['box', 'yellow']],\n",
      "           [['key', 'purple'], ['box', 'purple']],\n",
      "           [['box', 'red'], ['box', 'green']],\n",
      "           [['box', 'grey'], ['box', 'blue']]]}\n",
      "{'keys': [['key', 'red'], ['key', 'blue'], ['key', 'yellow'], ['key', 'green']],\n",
      " 'pairs': [[['ball', 'red'], ['box', 'purple']],\n",
      "           [['key', 'purple'], ['box', 'yellow']],\n",
      "           [['box', 'red'], ['box', 'green']],\n",
      "           [['box', 'grey'], ['box', 'blue']]]}\n"
     ]
    }
   ],
   "source": [
    "maze = mazes[0]\n",
    "pprint(maze)\n",
    "import copy\n",
    "maze_config = copy.deepcopy(maze)\n",
    "maze_config['pairs'][0][1], maze_config['pairs'][1][1] = maze_config['pairs'][1][1], maze_config['pairs'][0][1]\n",
    "pprint(maze_config)\n",
    "# new_maze=dict(\n",
    "#     keys=maze['keys'],\n",
    "#     pairs=[\n",
    "#         [maze['pairs'][0],\n",
    "#     ]\n",
    "# )\n",
    "# new_maze['keys'] = \n",
    "\n",
    "# pairs = maze['pairs']\n",
    "# pairs[0]"
   ]
  },
  {
   "cell_type": "code",
   "execution_count": 184,
   "id": "08169b8d-5978-4d09-9312-fb5f72476200",
   "metadata": {},
   "outputs": [
    {
     "name": "stdout",
     "output_type": "stream",
     "text": [
      "[['ball', 'red'], ['key', 'purple'], ['box', 'red'], ['box', 'grey'], ['box', 'yellow'], ['box', 'purple'], ['box', 'green'], ['box', 'blue']]\n"
     ]
    },
    {
     "name": "stderr",
     "output_type": "stream",
     "text": [
      "/Users/wilka/miniforge3/envs/humansf/lib/python3.9/site-packages/gymnasium/core.py:311: UserWarning: \u001b[33mWARN: env.all_final_objects to get variables from other wrappers is deprecated and will be removed in v1.0, to get this variable you can do `env.unwrapped.all_final_objects` for environment variables or `env.get_wrapper_attr('all_final_objects')` that will search the reminding wrappers.\u001b[0m\n",
      "  logger.warn(\n",
      "/Users/wilka/miniforge3/envs/humansf/lib/python3.9/site-packages/gymnasium/core.py:311: UserWarning: \u001b[33mWARN: env.get_frame to get variables from other wrappers is deprecated and will be removed in v1.0, to get this variable you can do `env.unwrapped.get_frame` for environment variables or `env.get_wrapper_attr('get_frame')` that will search the reminding wrappers.\u001b[0m\n",
      "  logger.warn(\n"
     ]
    },
    {
     "data": {
      "image/png": "[encoded data removed]",
      "text/plain": [
       "<Figure size 500x500 with 1 Axes>"
      ]
     },
     "metadata": {},
     "output_type": "display_data"
    }
   ],
   "source": [
    "import matplotlib.pyplot as plt\n",
    "import minigrid\n",
    "\n",
    "def plot_image(image, figsize=(5,5)):\n",
    "    fig, ax = plt.subplots(1,1, figsize=figsize)\n",
    "    # ax.clear()  # Clear the previous plot\n",
    "    # Remove ticks on both the x and y axes\n",
    "    ax.set_xticks([])\n",
    "    ax.set_yticks([])\n",
    "    \n",
    "    # Optionally, you can also remove the tick labels\n",
    "    ax.set_xticklabels([])\n",
    "    ax.set_yticklabels([])\n",
    "    ax.imshow(image)\n",
    "\n",
    "env = key_room.KeyRoom(\n",
    "    maze_config=mazes[0],\n",
    "    training=False,\n",
    "    swap_episodes=3,\n",
    "    color_rooms=False,\n",
    "    flat_task=False)\n",
    "env = minigrid.wrappers.RGBImgObsWrapper(env, tile_size=12)\n",
    "\n",
    "print(env.all_final_objects)\n",
    "for _ in range(1):\n",
    "    obs, info = env.reset()\n",
    "    plot_image(obs['image'])  # Assuming image has shape (C, H, W)"
   ]
  },
  {
   "cell_type": "code",
   "execution_count": 186,
   "id": "76367e1d-d730-4220-92c8-ba9dea5ab86a",
   "metadata": {},
   "outputs": [
    {
     "data": {
      "text/plain": [
       "True"
      ]
     },
     "execution_count": 186,
     "metadata": {},
     "output_type": "execute_result"
    }
   ],
   "source": [
    "['ball', 'red'] in [['ball', 'red'], ['key', 'purple'], ['box', 'red'], ['box', 'grey'], ['box', 'yellow'], ['box', 'purple'], ['box', 'green'], ['box', 'blue']]"
   ]
  },
  {
   "cell_type": "code",
   "execution_count": 174,
   "id": "0f8193e6-eab2-4d77-922f-975e77c64548",
   "metadata": {},
   "outputs": [
    {
     "name": "stdout",
     "output_type": "stream",
     "text": [
      "[[0. 0. 0. 0.]\n",
      " [0. 0. 0. 0.]\n",
      " [0. 0. 1. 0.]\n",
      " [0. 0. 0. 0.]\n",
      " [0. 0. 0. 0.]\n",
      " [0. 0. 0. 0.]\n",
      " [0. 0. 0. 0.]]\n",
      "['purple, ball = 0.0', 'purple, room = 0.0', 'purple, box = 0.0', 'purple, key = 0.0']\n",
      "['grey, ball = 0.0', 'grey, room = 0.0', 'grey, box = 0.0', 'grey, key = 0.0']\n",
      "['green, ball = 0.0', 'green, room = 0.0', 'green, box = 1.0', 'green, key = 0.0']\n",
      "['start, ball = 0.0', 'start, room = 0.0', 'start, box = 0.0', 'start, key = 0.0']\n",
      "['red, ball = 0.0', 'red, room = 0.0', 'red, box = 0.0', 'red, key = 0.0']\n",
      "['blue, ball = 0.0', 'blue, room = 0.0', 'blue, box = 0.0', 'blue, key = 0.0']\n",
      "['yellow, ball = 0.0', 'yellow, room = 0.0', 'yellow, box = 0.0', 'yellow, key = 0.0']\n"
     ]
    }
   ],
   "source": [
    "print(env.task.make_task_array())\n",
    "env.task.print_task_array()\n"
   ]
  },
  {
   "cell_type": "code",
   "execution_count": 82,
   "id": "192c5426-466a-4003-9e5e-23705ce64a4c",
   "metadata": {},
   "outputs": [
    {
     "ename": "TypeError",
     "evalue": "__init__() missing 1 required positional argument: 'colors_to_room'",
     "output_type": "error",
     "traceback": [
      "\u001b[0;31m---------------------------------------------------------------------------\u001b[0m",
      "\u001b[0;31mTypeError\u001b[0m                                 Traceback (most recent call last)",
      "Cell \u001b[0;32mIn[82], line 92\u001b[0m\n\u001b[1;32m     89\u001b[0m target \u001b[38;5;241m=\u001b[39m [\u001b[38;5;124m'\u001b[39m\u001b[38;5;124mbox\u001b[39m\u001b[38;5;124m'\u001b[39m, \u001b[38;5;124m'\u001b[39m\u001b[38;5;124mblue\u001b[39m\u001b[38;5;124m'\u001b[39m]\n\u001b[1;32m     90\u001b[0m target_room_color \u001b[38;5;241m=\u001b[39m \u001b[38;5;124m'\u001b[39m\u001b[38;5;124mred\u001b[39m\u001b[38;5;124m'\u001b[39m\n\u001b[0;32m---> 92\u001b[0m maze_rep \u001b[38;5;241m=\u001b[39m \u001b[43mTaskRep\u001b[49m\u001b[43m(\u001b[49m\u001b[43mshapes\u001b[49m\u001b[43m,\u001b[49m\u001b[43m \u001b[49m\u001b[43mcolors\u001b[49m\u001b[43m,\u001b[49m\u001b[43m \u001b[49m\u001b[43mtarget\u001b[49m\u001b[43m,\u001b[49m\u001b[43m \u001b[49m\u001b[43mtarget_room_color\u001b[49m\u001b[43m)\u001b[49m\n\u001b[1;32m     93\u001b[0m \u001b[38;5;28mprint\u001b[39m(maze_rep\u001b[38;5;241m.\u001b[39mget_array())\n",
      "\u001b[0;31mTypeError\u001b[0m: __init__() missing 1 required positional argument: 'colors_to_room'"
     ]
    }
   ],
   "source": [
    "class TaskRep:\n",
    "    def __init__(\n",
    "        self,\n",
    "        shapes,\n",
    "        colors,\n",
    "        target,\n",
    "        target_room_color,\n",
    "        colors_to_room,\n",
    "        delta_state_features: bool = True,\n",
    "    ):\n",
    "        self.shapes = shapes\n",
    "        self.colors = colors\n",
    "        self.target = target\n",
    "        self.target_room_color = target_room_color\n",
    "        self.delta_state_features = delta_state_features\n",
    "        self.room_to_color = {room: color for color, room in color_to_room.items()}\n",
    "\n",
    "        self.task_array = self.make_task_array()\n",
    "        self.feature_counts = empty_array()\n",
    "\n",
    "    def empty_array(self):\n",
    "        # Initialize the array with zeros\n",
    "        return np.zeros((len(self.colors), len(self.shapes)))\n",
    "\n",
    "    def make_task_array(self):\n",
    "        # Initialize the array with zeros\n",
    "        array = np.zeros((len(self.colors), len(self.shapes)))\n",
    "\n",
    "        # Set the target shape and color to 1\n",
    "        target_color_idx = self.colors.index(self.target[1])\n",
    "        target_shape_idx = self.shapes.index(self.target[0])\n",
    "        array[target_color_idx, target_shape_idx] = 1\n",
    "\n",
    "        # Set the room and key for the target room color to 0.5 and 0.1 respectively\n",
    "        target_room_color_idx = self.colors.index(self.target_room_color)\n",
    "        room_shape_idx = self.shapes.index('room')\n",
    "        key_shape_idx = self.shapes.index('key')\n",
    "        array[target_room_color_idx, room_shape_idx] = 0.5\n",
    "        array[target_room_color_idx, key_shape_idx] = 0.1\n",
    "\n",
    "        return array\n",
    "\n",
    "    def get_carrying(self, env):\n",
    "        if env.carrying:\n",
    "            color, shape = env.carrying.color, env.carrying.type\n",
    "            return color, shape\n",
    "        return None, None\n",
    "\n",
    "    def current_room(self, env):\n",
    "        agent_room = env.room_from_pos(*env.agent_pos)\n",
    "        return self.room_to_color[agent_room]\n",
    "\n",
    "    def current_state(env):\n",
    "        # Reset the state array to all zeros\n",
    "        state_array = self.empty_array()\n",
    "\n",
    "        # Check if the agent is carrying something\n",
    "        carrying_color, carrying_shape = self.get_carrying(env)\n",
    "        if carrying_color and carrying_shape:\n",
    "            color_idx = self.colors.index(carrying_color)\n",
    "            shape_idx = self.shapes.index(carrying_shape)\n",
    "            state_array[color_idx, shape_idx] = 1\n",
    "\n",
    "        # Check the color of the current room\n",
    "        current_room_color = self.current_room(env)\n",
    "        if current_room_color:\n",
    "            room_color_idx = self.colors.index(current_room_color)\n",
    "            room_shape_idx = self.shapes.index('room')\n",
    "            state_array[room_color_idx, room_shape_idx] = 1\n",
    "\n",
    "        return state_array\n",
    "\n",
    "    def step(self, env):\n",
    "        current_state_features = self.current_state(env)\n",
    "        self.feature_counts += current_state_features\n",
    "        first = (self.feature_counts == 1).astype(np.float32)\n",
    "\n",
    "        difference = (elf.feature_counts - self.prior_feature_counts).astype(np.float32)\n",
    "        state_features = first*difference\n",
    "\n",
    "        return state_features\n",
    "\n",
    "\n",
    "\n",
    "# Example usage\n",
    "shapes = ['room', 'key', 'box', 'ball']\n",
    "colors = ['start', 'red\", \"green\", \"blue']\n",
    "\n",
    "target = ['box', 'blue']\n",
    "target_room_color = 'red'\n",
    "\n",
    "maze_rep = TaskRep(shapes, colors, target, target_room_color)\n",
    "print(maze_rep.get_array())"
   ]
  },
  {
   "cell_type": "code",
   "execution_count": null,
   "id": "83620912-1852-4dc1-8c60-8a0f8b032589",
   "metadata": {},
   "outputs": [],
   "source": []
  }
 ],
 "metadata": {
  "kernelspec": {
   "display_name": "Python 3 (ipykernel)",
   "language": "python",
   "name": "python3"
  },
  "language_info": {
   "codemirror_mode": {
    "name": "ipython",
    "version": 3
   },
   "file_extension": ".py",
   "mimetype": "text/x-python",
   "name": "python",
   "nbconvert_exporter": "python",
   "pygments_lexer": "ipython3",
   "version": "3.9.18"
  }
 },
 "nbformat": 4,
 "nbformat_minor": 5
}
