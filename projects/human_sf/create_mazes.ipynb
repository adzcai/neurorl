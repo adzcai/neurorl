{
 "cells": [
  {
   "cell_type": "code",
   "execution_count": 1,
   "id": "c0ce35e6-d58a-4d5e-a66f-4620a707cc16",
   "metadata": {},
   "outputs": [
    {
     "name": "stdout",
     "output_type": "stream",
     "text": [
      "Initial Keys:\n",
      "[('key', 'green'), ('key', 'red'), ('key', 'purple'), ('key', 'blue')]\n",
      "Sets of Pairs:\n",
      "[[('box', 'green'), ('box', 'yellow')],\n",
      " [('box', 'purple'), ('box', 'grey')],\n",
      " [('key', 'grey'), ('key', 'yellow')],\n",
      " [('ball', 'red'), ('ball', 'grey')]]\n"
     ]
    }
   ],
   "source": [
    "import numpy as np\n",
    "import random\n",
    "\n",
    "# Colors and object types\n",
    "COLORS = {\n",
    "    \"red\": np.array([255, 0, 0]),\n",
    "    \"green\": np.array([0, 255, 0]),\n",
    "    \"blue\": np.array([0, 0, 255]),\n",
    "    \"purple\": np.array([112, 39, 195]),\n",
    "    \"yellow\": np.array([255, 255, 0]),\n",
    "    \"grey\": np.array([100, 100, 100]),\n",
    "}\n",
    "OBJECT_TYPES = [\"key\", \"ball\", \"box\"]\n",
    "\n",
    "# Function to create the maze\n",
    "def create_maze(colors, object_types):\n",
    "    # Select 4 random colors for initial keys\n",
    "    initial_key_colors = random.sample(list(colors.keys()), 4)\n",
    "    initial_keys = [(\"key\", color) for color in initial_key_colors]\n",
    "\n",
    "    # Create all possible pairs\n",
    "    all_pairs = [(obj_type, color) for obj_type in object_types for color in colors.keys()]\n",
    "\n",
    "    # Remove initial key pairs from all pairs\n",
    "    remaining_pairs = [pair for pair in all_pairs if pair not in initial_keys]\n",
    "\n",
    "    # Select 8 unique pairs from the remaining pairs\n",
    "    selected_pairs = random.sample(remaining_pairs, 8)\n",
    "\n",
    "    # Split into 4 sets of 2\n",
    "    sets_of_pairs = [selected_pairs[i:i+2] for i in range(0, len(selected_pairs), 2)]\n",
    "\n",
    "    return initial_keys, sets_of_pairs\n",
    "\n",
    "# Create the maze\n",
    "initial_keys, sets_of_pairs = create_maze(COLORS, OBJECT_TYPES)\n",
    "\n",
    "from pprint import pprint\n",
    "print(\"Initial Keys:\")\n",
    "pprint(initial_keys)\n",
    "print(\"Sets of Pairs:\")\n",
    "pprint(sets_of_pairs)\n"
   ]
  },
  {
   "cell_type": "code",
   "execution_count": 6,
   "id": "d79ce16a-9579-4afc-831b-c04d096de551",
   "metadata": {},
   "outputs": [
    {
     "name": "stdout",
     "output_type": "stream",
     "text": [
      "Maze pairs saved to maze_pairs.json\n"
     ]
    }
   ],
   "source": [
    "import json\n",
    "\n",
    "def create_n_pairs_of_mazes(n, colors, object_types):\n",
    "    pairs_of_mazes = []\n",
    "\n",
    "    for _ in range(n):\n",
    "        # Generate a pair of unique mazes\n",
    "        init_keys, room_pairs = create_maze(colors, object_types)\n",
    "        \n",
    "        # Ensure uniqueness in the pair\n",
    "        while init_keys in pairs_of_mazes or room_pairs in pairs_of_mazes or init_keys == room_pairs:\n",
    "            init_keys, room_pairs = create_maze(colors, object_types)\n",
    "        \n",
    "        pairs_of_mazes.append({'keys': init_keys, 'pairs': room_pairs})\n",
    "\n",
    "    return pairs_of_mazes\n",
    "\n",
    "# Example usage\n",
    "n = 5  # Number of pairs of mazes to generate\n",
    "maze_pairs = create_n_pairs_of_mazes(n, COLORS, OBJECT_TYPES)\n",
    "\n",
    "# Save to a JSON file\n",
    "json_file = 'maze_pairs.json'\n",
    "with open(json_file, 'w') as file:\n",
    "    json.dump(maze_pairs, file, indent=4)\n",
    "\n",
    "print(f'Maze pairs saved to {json_file}')\n"
   ]
  },
  {
   "cell_type": "code",
   "execution_count": null,
   "id": "6ad9ca84-c678-4254-9276-7bb3906ad889",
   "metadata": {},
   "outputs": [],
   "source": []
  }
 ],
 "metadata": {
  "kernelspec": {
   "display_name": "Python 3 (ipykernel)",
   "language": "python",
   "name": "python3"
  },
  "language_info": {
   "codemirror_mode": {
    "name": "ipython",
    "version": 3
   },
   "file_extension": ".py",
   "mimetype": "text/x-python",
   "name": "python",
   "nbconvert_exporter": "python",
   "pygments_lexer": "ipython3",
   "version": "3.9.18"
  }
 },
 "nbformat": 4,
 "nbformat_minor": 5
}
