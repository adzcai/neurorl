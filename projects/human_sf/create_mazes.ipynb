{
 "cells": [
  {
   "cell_type": "code",
   "execution_count": 31,
   "id": "c0ce35e6-d58a-4d5e-a66f-4620a707cc16",
   "metadata": {},
   "outputs": [
    {
     "name": "stdout",
     "output_type": "stream",
     "text": [
      "Initial Keys:\n",
      "[('key', 'purple'), ('key', 'blue'), ('key', 'green'), ('key', 'yellow')]\n",
      "Sets of Pairs:\n",
      "[[('key', 'red'), ('ball', 'red')],\n",
      " [('box', 'red'), ('ball', 'blue')],\n",
      " [('box', 'yellow'), ('box', 'purple')],\n",
      " [('ball', 'green'), ('box', 'green')]]\n"
     ]
    }
   ],
   "source": [
    "import numpy as np\n",
    "import random\n",
    "\n",
    "# Colors and object types\n",
    "COLORS = {\n",
    "    \"red\": np.array([255, 0, 0]),\n",
    "    \"green\": np.array([0, 255, 0]),\n",
    "    \"blue\": np.array([0, 0, 255]),\n",
    "    \"purple\": np.array([112, 39, 195]),\n",
    "    \"yellow\": np.array([255, 255, 0]),\n",
    "    \"grey\": np.array([100, 100, 100]),\n",
    "}\n",
    "OBJECT_TYPES = [\"key\", \"ball\", \"box\"]\n",
    "\n",
    "# Function to create the maze\n",
    "def create_maze(colors, object_types):\n",
    "    # Select 4 random colors for initial keys\n",
    "    initial_key_colors = random.sample(colors, 4)\n",
    "    initial_keys = [(\"key\", color) for color in initial_key_colors]\n",
    "\n",
    "    # Create all possible pairs\n",
    "    all_pairs = [(obj_type, color) for obj_type in object_types for color in colors]\n",
    "\n",
    "    # Remove initial key pairs from all pairs\n",
    "    remaining_pairs = [pair for pair in all_pairs if pair not in initial_keys]\n",
    "\n",
    "    # Select 8 unique pairs from the remaining pairs\n",
    "    selected_pairs = random.sample(remaining_pairs, 8)\n",
    "\n",
    "    # Split into 4 sets of 2\n",
    "    sets_of_pairs = [selected_pairs[i:i+2] for i in range(0, len(selected_pairs), 2)]\n",
    "\n",
    "    return initial_keys, sets_of_pairs\n",
    "\n",
    "# Create the maze\n",
    "initial_keys, sets_of_pairs = create_maze(list(COLORS.keys()), OBJECT_TYPES)\n",
    "\n",
    "from pprint import pprint\n",
    "print(\"Initial Keys:\")\n",
    "pprint(initial_keys)\n",
    "print(\"Sets of Pairs:\")\n",
    "pprint(sets_of_pairs)\n"
   ]
  },
  {
   "cell_type": "code",
   "execution_count": 2,
   "id": "b2991e3a-cf51-47b7-bb7d-6c424606ea70",
   "metadata": {},
   "outputs": [
    {
     "name": "stdout",
     "output_type": "stream",
     "text": [
      "Initial Keys:\n",
      "[('key', 'grey'), ('key', 'green'), ('key', 'yellow'), ('key', 'purple')]\n",
      "Sets of Pairs:\n",
      "[(('ball', 'green'), ('box', 'red')),\n",
      " (('box', 'purple'), ('ball', 'grey')),\n",
      " (('box', 'yellow'), ('ball', 'purple')),\n",
      " (('key', 'red'), ('box', 'grey'))]\n"
     ]
    }
   ],
   "source": [
    "# this one has the test pairs overlap in shape/color with the keys/training pairs\n",
    "def create_maze_overlap(colors, object_types):\n",
    "    # Select 4 random colors for initial keys\n",
    "    initial_key_colors = random.sample(colors, 4)\n",
    "    initial_keys = [(\"key\", color) for color in initial_key_colors]\n",
    "\n",
    "    # Create all possible pairs\n",
    "    all_pairs = [(obj_type, color) for obj_type in object_types for color in colors]\n",
    "\n",
    "    # Remove initial key pairs from all pairs\n",
    "    remaining_pairs = [pair for pair in all_pairs if pair not in initial_keys]\n",
    "\n",
    "    # Select 4 unique pairs from the remaining pairs\n",
    "    first_selected_pairs = random.sample(remaining_pairs, 4)\n",
    "\n",
    "    # Observe types and colors from these pairs\n",
    "    observed_types = set([pair[0] for pair in first_selected_pairs+initial_keys])\n",
    "    observed_colors = set([pair[1] for pair in first_selected_pairs+initial_keys])\n",
    "\n",
    "    # Create possible pairs from observed types and colors\n",
    "    possible_new_pairs = [(obj_type, color) for obj_type in observed_types for color in observed_colors]\n",
    "\n",
    "    # Remove already selected pairs\n",
    "    new_pairs_candidates = [pair for pair in possible_new_pairs if pair not in first_selected_pairs and pair not in initial_keys]\n",
    "\n",
    "    # Select 4 unique pairs from new pairs candidates\n",
    "    second_selected_pairs = random.sample(new_pairs_candidates, 4)\n",
    "\n",
    "    # Interleave first and second pairs to form 4 sets of 2\n",
    "    sets_of_pairs = [(first_selected_pairs[i], second_selected_pairs[i]) for i in range(4)]\n",
    "\n",
    "    return initial_keys, sets_of_pairs\n",
    "\n",
    "# Create the maze\n",
    "initial_keys, sets_of_pairs = create_maze_overlap(list(COLORS.keys()), OBJECT_TYPES)\n",
    "\n",
    "from pprint import pprint\n",
    "print(\"Initial Keys:\")\n",
    "pprint(initial_keys)\n",
    "print(\"Sets of Pairs:\")\n",
    "pprint(sets_of_pairs)\n"
   ]
  },
  {
   "cell_type": "code",
   "execution_count": 41,
   "id": "d79ce16a-9579-4afc-831b-c04d096de551",
   "metadata": {},
   "outputs": [
    {
     "name": "stdout",
     "output_type": "stream",
     "text": [
      "[{'keys': [('key', 'green'), ('key', 'red'), ('key', 'blue'), ('key', 'grey')],\n",
      "  'pairs': [(('key', 'purple'), ('box', 'red')),\n",
      "            (('ball', 'green'), ('key', 'yellow')),\n",
      "            (('box', 'purple'), ('ball', 'grey')),\n",
      "            (('box', 'yellow'), ('box', 'blue'))]},\n",
      " {'keys': [('key', 'purple'),\n",
      "           ('key', 'yellow'),\n",
      "           ('key', 'blue'),\n",
      "           ('key', 'green')],\n",
      "  'pairs': [(('box', 'red'), ('ball', 'red')),\n",
      "            (('ball', 'green'), ('ball', 'yellow')),\n",
      "            (('key', 'grey'), ('box', 'blue')),\n",
      "            (('ball', 'purple'), ('key', 'red'))]},\n",
      " {'keys': [('key', 'blue'),\n",
      "           ('key', 'red'),\n",
      "           ('key', 'purple'),\n",
      "           ('key', 'yellow')],\n",
      "  'pairs': [(('box', 'grey'), ('key', 'grey')),\n",
      "            (('ball', 'grey'), ('box', 'red')),\n",
      "            (('box', 'blue'), ('key', 'green')),\n",
      "            (('box', 'green'), ('ball', 'red'))]},\n",
      " {'keys': [('key', 'yellow'),\n",
      "           ('key', 'green'),\n",
      "           ('key', 'grey'),\n",
      "           ('key', 'purple')],\n",
      "  'pairs': [(('box', 'grey'), ('box', 'blue')),\n",
      "            (('ball', 'blue'), ('box', 'green')),\n",
      "            (('ball', 'green'), ('ball', 'yellow')),\n",
      "            (('key', 'blue'), ('box', 'purple'))]},\n",
      " {'keys': [('key', 'purple'),\n",
      "           ('key', 'yellow'),\n",
      "           ('key', 'green'),\n",
      "           ('key', 'grey')],\n",
      "  'pairs': [(('ball', 'yellow'), ('box', 'purple')),\n",
      "            (('box', 'yellow'), ('box', 'green')),\n",
      "            (('ball', 'grey'), ('box', 'grey')),\n",
      "            (('ball', 'green'), ('ball', 'purple'))]}]\n",
      "Maze pairs saved to maze_pairs_shared.json\n"
     ]
    }
   ],
   "source": [
    "import json\n",
    "\n",
    "def create_n_pairs_of_mazes(n, colors, object_types, create_fn=create_maze):\n",
    "    pairs_of_mazes = []\n",
    "\n",
    "    for _ in range(n):\n",
    "        # Generate a pair of unique mazes\n",
    "        init_keys, room_pairs = create_fn(colors, object_types)\n",
    "        \n",
    "        # Ensure uniqueness in the pair\n",
    "        while init_keys in pairs_of_mazes or room_pairs in pairs_of_mazes or init_keys == room_pairs:\n",
    "            init_keys, room_pairs = create_fn(colors, object_types)\n",
    "        \n",
    "        pairs_of_mazes.append({'keys': init_keys, 'pairs': room_pairs})\n",
    "\n",
    "    return pairs_of_mazes\n",
    "\n",
    "# ###########\n",
    "# # shared atributes\n",
    "# ###########\n",
    "json_file = 'maze_pairs_shared.json'\n",
    "create_fn = create_maze_overlap\n",
    "\n",
    "###########\n",
    "# regular\n",
    "###########\n",
    "# json_file = 'maze_pairs.json'\n",
    "# create_fn = create_maze\n",
    "\n",
    "###########\n",
    "\n",
    "\n",
    "# Example usage\n",
    "n = 5  # Number of pairs of mazes to generate\n",
    "maze_pairs = create_n_pairs_of_mazes(n, list(COLORS.keys()), OBJECT_TYPES, create_fn=create_fn)\n",
    "pprint(maze_pairs)\n",
    "# Save to a JSON file\n",
    "\n",
    "\n",
    "with open(json_file, 'w') as file:\n",
    "    json.dump(maze_pairs, file, indent=4)\n",
    "\n",
    "print(f'Maze pairs saved to {json_file}')\n"
   ]
  },
  {
   "cell_type": "code",
   "execution_count": 42,
   "id": "ef6947a8-42b6-4071-9244-96f7104124a2",
   "metadata": {},
   "outputs": [
    {
     "name": "stdout",
     "output_type": "stream",
     "text": [
      "The autoreload extension is already loaded. To reload it, use:\n",
      "  %reload_ext autoreload\n"
     ]
    }
   ],
   "source": [
    "%load_ext autoreload\n",
    "%autoreload 2\n",
    "\n",
    "import sys\n",
    "sys.path.insert(0,'../..')"
   ]
  },
  {
   "cell_type": "code",
   "execution_count": 61,
   "id": "6ad9ca84-c678-4254-9276-7bb3906ad889",
   "metadata": {},
   "outputs": [
    {
     "name": "stdout",
     "output_type": "stream",
     "text": [
      "{'keys': [['key', 'green'], ['key', 'red'], ['key', 'blue'], ['key', 'grey']],\n",
      " 'pairs': [[['key', 'purple'], ['box', 'red']],\n",
      "           [['ball', 'green'], ['key', 'yellow']],\n",
      "           [['box', 'purple'], ['ball', 'grey']],\n",
      "           [['box', 'yellow'], ['box', 'blue']]]}\n"
     ]
    }
   ],
   "source": [
    "from projects.human_sf import key_room_v3 as key_room\n",
    "\n",
    "# json_file = 'maze_pairs.json'\n",
    "with open(json_file, 'r') as file:\n",
    "    mazes = json.load(file)\n",
    "\n",
    "maze = mazes[0]\n",
    "pprint(maze)"
   ]
  },
  {
   "cell_type": "code",
   "execution_count": 60,
   "id": "a4d47a8d-c13a-4ba7-82be-cc9a4c09e7aa",
   "metadata": {},
   "outputs": [
    {
     "name": "stdout",
     "output_type": "stream",
     "text": [
      "{'keys': [['key', 'green'], ['key', 'red']],\n",
      " 'pairs': [[['key', 'purple'], ['box', 'red']],\n",
      "           [['ball', 'green'], ['key', 'yellow']]]}\n",
      "{'keys': [['key', 'green'], ['key', 'red']],\n",
      " 'pairs': [[['key', 'purple'], ['key', 'yellow']],\n",
      "           [['ball', 'green'], ['box', 'red']]]}\n"
     ]
    }
   ],
   "source": [
    "maze = mazes[0]\n",
    "pprint(maze)\n",
    "import copy\n",
    "maze_config = copy.deepcopy(maze)\n",
    "maze_config['pairs'][0][1], maze_config['pairs'][1][1] = maze_config['pairs'][1][1], maze_config['pairs'][0][1]\n",
    "pprint(maze_config)\n",
    "# new_maze=dict(\n",
    "#     keys=maze['keys'],\n",
    "#     pairs=[\n",
    "#         [maze['pairs'][0],\n",
    "#     ]\n",
    "# )\n",
    "# new_maze['keys'] = \n",
    "\n",
    "# pairs = maze['pairs']\n",
    "# pairs[0]"
   ]
  },
  {
   "cell_type": "code",
   "execution_count": 109,
   "id": "08169b8d-5978-4d09-9312-fb5f72476200",
   "metadata": {},
   "outputs": [
    {
     "name": "stdout",
     "output_type": "stream",
     "text": [
      "[['key', 'purple'], ['ball', 'green'], ['box', 'red'], ['key', 'yellow']]\n"
     ]
    },
    {
     "name": "stderr",
     "output_type": "stream",
     "text": [
      "/Users/wilka/miniforge3/envs/humansf/lib/python3.9/site-packages/gymnasium/core.py:311: UserWarning: \u001b[33mWARN: env.actions to get variables from other wrappers is deprecated and will be removed in v1.0, to get this variable you can do `env.unwrapped.actions` for environment variables or `env.get_wrapper_attr('actions')` that will search the reminding wrappers.\u001b[0m\n",
      "  logger.warn(\n",
      "/Users/wilka/miniforge3/envs/humansf/lib/python3.9/site-packages/gymnasium/core.py:311: UserWarning: \u001b[33mWARN: env.get_frame to get variables from other wrappers is deprecated and will be removed in v1.0, to get this variable you can do `env.unwrapped.get_frame` for environment variables or `env.get_wrapper_attr('get_frame')` that will search the reminding wrappers.\u001b[0m\n",
      "  logger.warn(\n",
      "/Users/wilka/miniforge3/envs/humansf/lib/python3.9/site-packages/gymnasium/core.py:311: UserWarning: \u001b[33mWARN: env.all_objects to get variables from other wrappers is deprecated and will be removed in v1.0, to get this variable you can do `env.unwrapped.all_objects` for environment variables or `env.get_wrapper_attr('all_objects')` that will search the reminding wrappers.\u001b[0m\n",
      "  logger.warn(\n",
      "/Users/wilka/miniforge3/envs/humansf/lib/python3.9/site-packages/gymnasium/core.py:311: UserWarning: \u001b[33mWARN: env.agent_view_size to get variables from other wrappers is deprecated and will be removed in v1.0, to get this variable you can do `env.unwrapped.agent_view_size` for environment variables or `env.get_wrapper_attr('agent_view_size')` that will search the reminding wrappers.\u001b[0m\n",
      "  logger.warn(\n",
      "/Users/wilka/miniforge3/envs/humansf/lib/python3.9/site-packages/gymnasium/core.py:311: UserWarning: \u001b[33mWARN: env.all_final_objects to get variables from other wrappers is deprecated and will be removed in v1.0, to get this variable you can do `env.unwrapped.all_final_objects` for environment variables or `env.get_wrapper_attr('all_final_objects')` that will search the reminding wrappers.\u001b[0m\n",
      "  logger.warn(\n"
     ]
    },
    {
     "data": {
      "image/png": "[encoded data removed]",
      "text/plain": [
       "<Figure size 500x500 with 1 Axes>"
      ]
     },
     "metadata": {},
     "output_type": "display_data"
    }
   ],
   "source": [
    "import matplotlib.pyplot as plt\n",
    "import minigrid\n",
    "\n",
    "def plot_image(image, figsize=(5,5)):\n",
    "    fig, ax = plt.subplots(1,1, figsize=figsize)\n",
    "    # ax.clear()  # Clear the previous plot\n",
    "    # Remove ticks on both the x and y axes\n",
    "    ax.set_xticks([])\n",
    "    ax.set_yticks([])\n",
    "    \n",
    "    # Optionally, you can also remove the tick labels\n",
    "    ax.set_xticklabels([])\n",
    "    ax.set_yticklabels([])\n",
    "    ax.imshow(image)\n",
    "\n",
    "env = key_room.KeyRoom(\n",
    "    maze_config=mazes[0],\n",
    "    training=False,\n",
    "    swap_episodes=3,\n",
    "    num_dists=2,\n",
    "    num_task_rooms=2,\n",
    "    color_rooms=False,\n",
    "    basic_only=1,\n",
    "    flat_task=True)\n",
    "\n",
    "env = minigrid.wrappers.RGBImgPartialObsWrapper(env, tile_size=12)\n",
    "from projects.human_sf.minigrid_goto_wrapper import GotoOptionsWrapper\n",
    "env = GotoOptionsWrapper(env)\n",
    "print(env.all_final_objects)\n",
    "for _ in range(1):\n",
    "    obs, info = env.reset()\n",
    "    plot_image(obs['image'])  # Assuming image has shape (C, H, W)"
   ]
  },
  {
   "cell_type": "code",
   "execution_count": 110,
   "id": "9c2e0fb3-a7be-42a2-b182-8ed3cd1f2139",
   "metadata": {},
   "outputs": [
    {
     "name": "stdout",
     "output_type": "stream",
     "text": [
      "{('ball', 'green'): 0, ('box', 'red'): 1, ('key', 'purple'): 2, ('key', 'yellow'): 3}\n",
      "[0 0 0 1 0 0 0 0 0 0 0 0 0 0 0 0 0 0 0 0 0 0 0 0 0 0 0 0 0 0 0 0 0 0 0 0 0\n",
      " 0 0 0 0 0 0 0 0 0 0 0 0 0 0 0 0 0 0 0 0 0 0 0 0 0 0 0 0 0 0 0 0 0 0 0 0 0\n",
      " 0 0 0 0 0 0 0 0 0 0 0 0 0 0 0 0 0 0 0 0 0 0 0 0 0 0 0 0 0 0 1 0 0 0 0 0 0\n",
      " 0 0 0 0 0 0 0 0 0 0 0 0 0 0 0 0 0 0 0 0 0 0 0 0 0 0 0 0 0 0 0 0 0 0 0 0 0\n",
      " 0 0 0 0 0 0 0 0 0 0 0 0 0 0 0 0 0 0 0 0 0 0 0 0 0 0 0 0 0 0 0 0 0 0 0 0 0\n",
      " 0 0 0 0 0 0 0 0 0 0 0 0 0 0 0 0 0 0 0 0 0 1 0 0 0 0 0 0 0 0 0 0 0 0 0 0 0\n",
      " 0 0 0 0 0 0 0 0 0 0 0 0 0 0 0 0 0 0 0 0 0 0 0 0 0 0 0 0 0 0 0 0 0 0 0 0 0\n",
      " 0 0 0 0 0 0 0 0 0 0 0 0 0 0 0 0 0 0 0 0 0 0 0 0 0 0 0 0 0 0 0 0 0 0 0 0 0\n",
      " 0 0 0 0 0 1 0 0 0 0 0 0 0 0 0 0 0 0 0 0 0 0 0 0 0 0 0 0 0 0 0 0 0 0 0 0 0\n",
      " 0 0 0 0 0 0 0 0 0 0 0 0 0 0 0 0 0 0 0 0 0 0 0 0 0 0 0 0 0 0 0 0 0 0 0 0 0\n",
      " 0 0 0 0 0 0 0 0 0 0 0 0 0 0 0 0 0 0 0 0 0 0 0 0 0 0 0 0 0 0 1 0 0 0 0 0 0\n",
      " 0 0 0 0 0 0 0 0 0 0 0 0 0 0 0 0 0 0 0 0 0 0 0 0 0 0 0 0 0 0 0 0 0 0 0 0 0\n",
      " 0 0 0 0 0 0 0 0 0 0 0 0 0 0 0 0 0 0 0 0 0 0 0 0 0 0 0 0 0 0 0 0 0 0 0 0 0\n",
      " 0 0 0 0 0 0 0 0 0 0 0 0 0 0 0 0 0 0 0] True\n",
      "[0 0 0 1 0 0 0 0 0 0 0 0 0 0 0 0 0 0 0 0 0 0 0 0 0 0 0 0 0 0 0 0 0 0 0 0 0\n",
      " 0 0 0 0 0 0 0 0 0 0 0 0 0 0 0 0 0 0 0 0 0 0 0 0 0 0 0 0 0 0 0 0 0 0 0 0 0\n",
      " 0 0 0 0 0 0 0 0 0 0 0 0 0 0 0 0 0 0 0 0 0 0 0 0 0 0 0 1 0 0 0 0 0 0 0 0 0\n",
      " 0 0 0 0 0 0 0 0 0 0 0 0 0 0 0 0 0 0 0 0 0 0 0 0 0 0 0 0 0 0 0 0 0 0 0 0 0\n",
      " 0 0 0 0 0 0 0 0 0 0 0 0 0 0 0 0 0 0 0 0 0 0 0 0 0 0 0 0 0 0 0 0 0 0 0 0 0\n",
      " 0 0 0 0 0 0 0 0 0 0 0 0 0 0 0 0 0 0 0 0 0 0 1 0 0 0 0 0 0 0 0 0 0 0 0 0 0\n",
      " 0 0 0 0 0 0 0 0 0 0 0 0 0 0 0 0 0 0 0 0 0 0 0 0 0 0 0 0 0 0 0 0 0 0 0 0 0\n",
      " 0 0 0 0 0 0 0 0 0 0 0 0 0 0 0 0 0 0 0 0 0 0 0 0 0 0 0 0 0 0 0 0 0 0 0 0 0\n",
      " 0 0 0 0 1 0 0 0 0 0 0 0 0 0 0 0 0 0 0 0 0 0 0 0 0 0 0 0 0 0 0 0 0 0 0 0 0\n",
      " 0 0 0 0 0 0 0 0 0 0 0 0 0 0 0 0 0 0 0 0 0 0 0 0 0 0 0 0 0 0 0 0 0 0 0 0 0\n",
      " 0 0 0 0 0 0 0 0 0 0 0 0 0 0 0 0 0 0 0 0 0 0 0 0 0 0 0 0 0 0 1 0 0 0 0 0 0\n",
      " 0 0 0 0 0 0 0 0 0 0 0 0 0 0 0 0 0 0 0 0 0 0 0 0 0 0 0 0 0 0 0 0 0 0 0 0 0\n",
      " 0 0 0 0 0 0 0 0 0 0 0 0 0 0 0 0 0 0 0 0 0 0 0 0 0 0 0 0 0 0 0 0 0 0 0 0 0\n",
      " 0 0 0 0 0 0 0 0 0 0 0 0 0 0 0 0 0 0 0] True\n",
      "[0 0 0 1 0 0 0 0 0 0 0 0 0 0 0 0 0 0 0 0 0 0 0 0 0 0 0 0 0 0 0 0 0 0 0 0 0\n",
      " 0 0 0 0 0 0 0 0 0 0 0 0 0 0 0 0 0 0 0 0 0 0 0 0 0 0 0 0 0 0 0 0 0 0 0 0 0\n",
      " 0 0 0 0 0 0 0 0 0 0 0 0 0 0 0 0 0 0 0 0 0 0 0 0 0 0 0 0 1 0 0 0 0 0 0 0 0\n",
      " 0 0 0 0 0 0 0 0 0 0 0 0 0 0 0 0 0 0 0 0 0 0 0 0 0 0 0 0 0 0 0 0 0 0 0 0 0\n",
      " 0 0 0 0 0 0 0 0 0 0 0 0 0 0 0 0 0 0 0 0 0 0 0 0 0 0 0 0 0 0 0 0 0 0 0 0 0\n",
      " 0 0 0 0 0 0 0 0 0 0 0 0 0 0 0 0 0 0 0 0 1 0 0 0 0 0 0 0 0 0 0 0 0 0 0 0 0\n",
      " 0 0 0 0 0 0 0 0 0 0 0 0 0 0 0 0 0 0 0 0 0 0 0 0 0 0 0 0 0 0 0 0 0 0 0 0 0\n",
      " 0 0 0 0 0 0 0 0 0 0 0 0 0 0 0 0 0 0 0 0 0 0 0 0 0 0 0 0 0 0 0 0 0 0 0 0 0\n",
      " 0 0 0 0 0 0 0 1 0 0 0 0 0 0 0 0 0 0 0 0 0 0 0 0 0 0 0 0 0 0 0 0 0 0 0 0 0\n",
      " 0 0 0 0 0 0 0 0 0 0 0 0 0 0 0 0 0 0 0 0 0 0 0 0 0 0 0 0 0 0 0 0 0 0 0 0 0\n",
      " 0 0 0 0 0 0 0 0 0 0 0 0 0 0 0 0 0 0 0 0 0 0 0 0 0 0 0 0 0 0 1 0 0 0 0 0 0\n",
      " 0 0 0 0 0 0 0 0 0 0 0 0 0 0 0 0 0 0 0 0 0 0 0 0 0 0 0 0 0 0 0 0 0 0 0 0 0\n",
      " 0 0 0 0 0 0 0 0 0 0 0 0 0 0 0 0 0 0 0 0 0 0 0 0 0 0 0 0 0 0 0 0 0 0 0 0 0\n",
      " 0 0 0 0 0 0 0 0 0 0 0 0 0 0 0 0 0 0 0] True\n",
      "[0 0 0 0 0 0 1 0 0 0 0 0 0 0 0 0 0 0 0 0 0 0 0 0 0 0 0 0 0 0 0 0 0 0 0 0 0\n",
      " 0 0 0 0 0 0 0 0 0 0 0 0 0 0 0 0 0 0 0 0 0 0 0 0 0 0 0 0 0 0 0 0 0 0 0 0 0\n",
      " 0 0 0 0 0 0 0 0 0 0 0 0 0 0 0 0 0 0 0 0 0 0 0 0 0 0 0 1 0 0 0 0 0 0 0 0 0\n",
      " 0 0 0 0 0 0 0 0 0 0 0 0 0 0 0 0 0 0 0 0 0 0 0 0 0 0 0 0 0 0 0 0 0 0 0 0 0\n",
      " 0 0 0 0 0 0 0 0 0 0 0 0 0 0 0 0 0 0 0 0 0 0 0 0 0 0 0 0 0 0 0 0 0 0 0 0 0\n",
      " 0 0 0 0 0 0 0 0 0 0 0 0 0 0 0 0 0 0 0 0 1 0 0 0 0 0 0 0 0 0 0 0 0 0 0 0 0\n",
      " 0 0 0 0 0 0 0 0 0 0 0 0 0 0 0 0 0 0 0 0 0 0 0 0 0 0 0 0 0 0 0 0 0 0 0 0 0\n",
      " 0 0 0 0 0 0 0 0 0 0 0 0 0 0 0 0 0 0 0 0 0 0 0 0 0 0 0 0 0 0 0 0 0 0 0 0 0\n",
      " 0 0 0 0 0 0 0 0 1 0 0 0 0 0 0 0 0 0 0 0 0 0 0 0 0 0 0 0 0 0 0 0 0 0 0 0 0\n",
      " 0 0 0 0 0 0 0 0 0 0 0 0 0 0 0 0 0 0 0 0 0 0 0 0 0 0 0 0 0 0 0 0 0 0 0 0 0\n",
      " 0 0 0 0 0 0 0 0 0 0 0 0 0 0 0 0 0 0 0 0 0 0 0 0 0 0 0 0 0 0 1 0 0 0 0 0 0\n",
      " 0 0 0 0 0 0 0 0 0 0 0 0 0 0 0 0 0 0 0 0 0 0 0 0 0 0 0 0 0 0 0 0 0 0 0 0 0\n",
      " 0 0 0 0 0 0 0 0 0 0 0 0 0 0 0 0 0 0 0 0 0 0 0 0 0 0 0 0 0 0 0 0 0 0 0 0 0\n",
      " 0 0 0 0 0 0 0 0 0 0 0 0 0 0 0 0 0 0 0] True\n"
     ]
    },
    {
     "name": "stderr",
     "output_type": "stream",
     "text": [
      "/Users/wilka/miniforge3/envs/humansf/lib/python3.9/site-packages/gymnasium/core.py:311: UserWarning: \u001b[33mWARN: env.gen_obs_grid to get variables from other wrappers is deprecated and will be removed in v1.0, to get this variable you can do `env.unwrapped.gen_obs_grid` for environment variables or `env.get_wrapper_attr('gen_obs_grid')` that will search the reminding wrappers.\u001b[0m\n",
      "  logger.warn(\n"
     ]
    }
   ],
   "source": [
    "# env.get_objects()\n",
    "print(env.object2idx)\n",
    "env.post_env_iter_update(obs, info)\n",
    "for o in obs['objects']:\n",
    "    print(o, o.sum() > 0)"
   ]
  },
  {
   "cell_type": "code",
   "execution_count": 87,
   "id": "e025d479-50df-4f33-bd03-38714813022b",
   "metadata": {},
   "outputs": [
    {
     "data": {
      "text/plain": [
       "array([[False, False, False, False, False, False, False],\n",
       "       [ True,  True,  True,  True,  True,  True,  True],\n",
       "       [ True,  True,  True,  True,  True,  True,  True],\n",
       "       [ True,  True,  True,  True,  True,  True,  True],\n",
       "       [ True,  True,  True,  True,  True,  True,  True],\n",
       "       [ True,  True,  True,  True,  True,  True,  True],\n",
       "       [ True,  True,  True,  True,  True,  True,  True]])"
      ]
     },
     "execution_count": 87,
     "metadata": {},
     "output_type": "execute_result"
    }
   ],
   "source": [
    "grid, vis_mask = env.gen_obs_grid()\n",
    "# len(grid.grid), len(vis_mask)\n",
    "vis_mask.transpose()"
   ]
  },
  {
   "cell_type": "code",
   "execution_count": 65,
   "id": "0f8193e6-eab2-4d77-922f-975e77c64548",
   "metadata": {},
   "outputs": [
    {
     "name": "stdout",
     "output_type": "stream",
     "text": [
      "purple, room = 0.0\n",
      "purple, box = 0.0\n",
      "purple, key = 0.0\n",
      "purple, ball = 0.0\n",
      "green, room = 0.0\n",
      "green, box = 0.0\n",
      "green, key = 0.0\n",
      "green, ball = 0.0\n",
      "red, room = 0.0\n",
      "red, box = 1.0\n",
      "red, key = 0.0\n",
      "red, ball = 0.0\n",
      "yellow, room = 0.0\n",
      "yellow, box = 0.0\n",
      "yellow, key = 0.0\n",
      "yellow, ball = 0.0\n",
      "start, room = 0.0\n",
      "start, box = 0.0\n",
      "start, key = 0.0\n",
      "start, ball = 0.0\n",
      "-------\n",
      "purple, room = 0.0\n",
      "purple, box = 0.0\n",
      "purple, key = 0.0\n",
      "purple, ball = 0.0\n",
      "green, room = 0.0\n",
      "green, box = 0.0\n",
      "green, key = 0.0\n",
      "green, ball = 0.0\n",
      "red, room = 0.0\n",
      "red, box = 1.0\n",
      "red, key = 0.0\n",
      "red, ball = 0.0\n",
      "yellow, room = 0.0\n",
      "yellow, box = 0.0\n",
      "yellow, key = 0.0\n",
      "yellow, ball = 0.0\n",
      "start, room = 0.0\n",
      "start, box = 0.0\n",
      "start, key = 0.0\n",
      "start, ball = 0.0\n"
     ]
    }
   ],
   "source": [
    "# env.train_objects + env.test_objects\n",
    "# print(env.task.make_task_array())\n",
    "env = key_room.KeyRoom(\n",
    "    maze_config=mazes[0],\n",
    "    training=False,\n",
    "    swap_episodes=3,\n",
    "    num_dists=2,\n",
    "    num_task_rooms=2,\n",
    "    color_rooms=False,\n",
    "    basic_only=1,\n",
    "    flat_task=True)\n",
    "env.reset()\n",
    "env.task.print_task_array()\n",
    "\n",
    "env = key_room.KeyRoom(\n",
    "    maze_config=mazes[0],\n",
    "    training=False,\n",
    "    swap_episodes=3,\n",
    "    num_dists=2,\n",
    "    num_task_rooms=2,\n",
    "    color_rooms=False,\n",
    "    basic_only=1,\n",
    "    flat_task=True)\n",
    "print('-------')\n",
    "env.reset()\n",
    "env.task.print_task_array()"
   ]
  },
  {
   "cell_type": "code",
   "execution_count": 68,
   "id": "192c5426-466a-4003-9e5e-23705ce64a4c",
   "metadata": {},
   "outputs": [
    {
     "name": "stderr",
     "output_type": "stream",
     "text": [
      "/Users/wilka/miniforge3/envs/humansf/lib/python3.9/site-packages/gymnasium/core.py:311: UserWarning: \u001b[33mWARN: env.get_frame to get variables from other wrappers is deprecated and will be removed in v1.0, to get this variable you can do `env.unwrapped.get_frame` for environment variables or `env.get_wrapper_attr('get_frame')` that will search the reminding wrappers.\u001b[0m\n",
      "  logger.warn(\n"
     ]
    },
    {
     "ename": "KeyError",
     "evalue": "('unseen', 'red')",
     "output_type": "error",
     "traceback": [
      "\u001b[0;31m---------------------------------------------------------------------------\u001b[0m",
      "\u001b[0;31mKeyError\u001b[0m                                  Traceback (most recent call last)",
      "Cell \u001b[0;32mIn[68], line 60\u001b[0m\n\u001b[1;32m     58\u001b[0m     actions \u001b[38;5;241m=\u001b[39m \u001b[38;5;28mlist\u001b[39m(\u001b[38;5;28mrange\u001b[39m(env\u001b[38;5;241m.\u001b[39maction_space\u001b[38;5;241m.\u001b[39mn))\n\u001b[1;32m     59\u001b[0m action \u001b[38;5;241m=\u001b[39m random\u001b[38;5;241m.\u001b[39mchoice(actions)\n\u001b[0;32m---> 60\u001b[0m obs, reward, done, truncated, info \u001b[38;5;241m=\u001b[39m \u001b[43menv\u001b[49m\u001b[38;5;241;43m.\u001b[39;49m\u001b[43mstep\u001b[49m\u001b[43m(\u001b[49m\u001b[43maction\u001b[49m\u001b[43m)\u001b[49m\n\u001b[1;32m     62\u001b[0m \u001b[38;5;66;03m# if t % 500 == 0:\u001b[39;00m\n\u001b[1;32m     63\u001b[0m \u001b[38;5;66;03m#     print(\"PERIODIC DISPLAY\", t)\u001b[39;00m\n\u001b[1;32m     64\u001b[0m \u001b[38;5;66;03m#     display(obs, reward, prime=False)\u001b[39;00m\n\u001b[1;32m     65\u001b[0m \u001b[38;5;28;01mif\u001b[39;00m reward \u001b[38;5;241m>\u001b[39m \u001b[38;5;241m0.0\u001b[39m \u001b[38;5;129;01mor\u001b[39;00m done:\n\u001b[1;32m     66\u001b[0m     \u001b[38;5;66;03m# Extract the image from the observation\u001b[39;00m\n",
      "File \u001b[0;32m~/miniforge3/envs/humansf/lib/python3.9/site-packages/gymnasium/core.py:522\u001b[0m, in \u001b[0;36mObservationWrapper.step\u001b[0;34m(self, action)\u001b[0m\n\u001b[1;32m    518\u001b[0m \u001b[38;5;28;01mdef\u001b[39;00m \u001b[38;5;21mstep\u001b[39m(\n\u001b[1;32m    519\u001b[0m     \u001b[38;5;28mself\u001b[39m, action: ActType\n\u001b[1;32m    520\u001b[0m ) \u001b[38;5;241m-\u001b[39m\u001b[38;5;241m>\u001b[39m \u001b[38;5;28mtuple\u001b[39m[WrapperObsType, SupportsFloat, \u001b[38;5;28mbool\u001b[39m, \u001b[38;5;28mbool\u001b[39m, \u001b[38;5;28mdict\u001b[39m[\u001b[38;5;28mstr\u001b[39m, Any]]:\n\u001b[1;32m    521\u001b[0m \u001b[38;5;250m    \u001b[39m\u001b[38;5;124;03m\"\"\"Modifies the :attr:`env` after calling :meth:`step` using :meth:`self.observation` on the returned observations.\"\"\"\u001b[39;00m\n\u001b[0;32m--> 522\u001b[0m     observation, reward, terminated, truncated, info \u001b[38;5;241m=\u001b[39m \u001b[38;5;28;43mself\u001b[39;49m\u001b[38;5;241;43m.\u001b[39;49m\u001b[43menv\u001b[49m\u001b[38;5;241;43m.\u001b[39;49m\u001b[43mstep\u001b[49m\u001b[43m(\u001b[49m\u001b[43maction\u001b[49m\u001b[43m)\u001b[49m\n\u001b[1;32m    523\u001b[0m     \u001b[38;5;28;01mreturn\u001b[39;00m \u001b[38;5;28mself\u001b[39m\u001b[38;5;241m.\u001b[39mobservation(observation), reward, terminated, truncated, info\n",
      "File \u001b[0;32m~/git/research/human-sf/projects/human_sf/../../projects/human_sf/minigrid_goto_wrapper.py:361\u001b[0m, in \u001b[0;36mGotoOptionsWrapper.step\u001b[0;34m(self, action, *args, **kwargs)\u001b[0m\n\u001b[1;32m    358\u001b[0m     obs, reward, terminated, truncated, info \u001b[38;5;241m=\u001b[39m \u001b[38;5;28mself\u001b[39m\u001b[38;5;241m.\u001b[39menv\u001b[38;5;241m.\u001b[39mstep(\u001b[38;5;28mself\u001b[39m\u001b[38;5;241m.\u001b[39mactions\u001b[38;5;241m.\u001b[39mdone, \u001b[38;5;241m*\u001b[39margs, \u001b[38;5;241m*\u001b[39m\u001b[38;5;241m*\u001b[39mkwargs)\n\u001b[1;32m    359\u001b[0m     \u001b[38;5;28mself\u001b[39m\u001b[38;5;241m.\u001b[39mprior_action \u001b[38;5;241m=\u001b[39m action\n\u001b[0;32m--> 361\u001b[0m \u001b[38;5;28;43mself\u001b[39;49m\u001b[38;5;241;43m.\u001b[39;49m\u001b[43mpost_env_iter_update\u001b[49m\u001b[43m(\u001b[49m\u001b[43mobs\u001b[49m\u001b[43m,\u001b[49m\u001b[43m \u001b[49m\u001b[43minfo\u001b[49m\u001b[43m)\u001b[49m\n\u001b[1;32m    362\u001b[0m \u001b[38;5;28;01mreturn\u001b[39;00m obs, reward, terminated, truncated, info\n",
      "File \u001b[0;32m~/git/research/human-sf/projects/human_sf/../../projects/human_sf/minigrid_goto_wrapper.py:278\u001b[0m, in \u001b[0;36mGotoOptionsWrapper.post_env_iter_update\u001b[0;34m(self, obs, info)\u001b[0m\n\u001b[1;32m    276\u001b[0m type_str \u001b[38;5;241m=\u001b[39m IDX_TO_OBJECT[obj\u001b[38;5;241m.\u001b[39mcolor]\n\u001b[1;32m    277\u001b[0m key \u001b[38;5;241m=\u001b[39m (type_str, color_str)\n\u001b[0;32m--> 278\u001b[0m idx \u001b[38;5;241m=\u001b[39m \u001b[38;5;28;43mself\u001b[39;49m\u001b[38;5;241;43m.\u001b[39;49m\u001b[43mobject2idx\u001b[49m\u001b[43m[\u001b[49m\u001b[43mkey\u001b[49m\u001b[43m]\u001b[49m\n\u001b[1;32m    279\u001b[0m object_mask[idx] \u001b[38;5;241m=\u001b[39m \u001b[38;5;241m1\u001b[39m\n\u001b[1;32m    280\u001b[0m object_info[idx] \u001b[38;5;241m=\u001b[39m np\u001b[38;5;241m.\u001b[39mconcatenate(\n\u001b[1;32m    281\u001b[0m    (make_onehot(obj\u001b[38;5;241m.\u001b[39mlocal_pos[\u001b[38;5;241m0\u001b[39m]),\n\u001b[1;32m    282\u001b[0m     make_onehot(obj\u001b[38;5;241m.\u001b[39mlocal_pos[\u001b[38;5;241m1\u001b[39m]),\n\u001b[1;32m    283\u001b[0m     make_onehot(obj\u001b[38;5;241m.\u001b[39mtype),\n\u001b[1;32m    284\u001b[0m     make_onehot(obj\u001b[38;5;241m.\u001b[39mcolor),\n\u001b[1;32m    285\u001b[0m     make_onehot(obj\u001b[38;5;241m.\u001b[39mstate)))\n",
      "\u001b[0;31mKeyError\u001b[0m: ('unseen', 'red')"
     ]
    }
   ],
   "source": [
    "env = key_room.KeyRoom(\n",
    "    maze_config=mazes[0],\n",
    "    training=True,\n",
    "    swap_episodes=1_000_000,\n",
    "    num_dists=0,\n",
    "    max_steps_per_room=1_000_000,\n",
    "    num_task_rooms=2,\n",
    "    basic_only=1,\n",
    "    color_rooms=False,\n",
    "    flat_task=True)\n",
    "\n",
    "env = minigrid.wrappers.DictObservationSpaceWrapper(env)\n",
    "use_options=True\n",
    "if use_options:\n",
    "    from projects.human_sf.minigrid_goto_wrapper import GotoOptionsWrapper\n",
    "    env = GotoOptionsWrapper(env)\n",
    "# env = minigrid.wrappers.RGBImgPartialObsWrapper(env, tile_size=12)\n",
    "env = minigrid.wrappers.RGBImgObsWrapper(env, tile_size=12)\n",
    "\n",
    "def prep_ax(ax):\n",
    "    ax.clear()  # Clear the previous plot\n",
    "    # Remove ticks on both the x and y axes\n",
    "    ax.set_xticks([])\n",
    "    ax.set_yticks([])\n",
    "    \n",
    "    # Optionally, you can also remove the tick labels\n",
    "    ax.set_xticklabels([])\n",
    "    ax.set_yticklabels([])\n",
    "    \n",
    "\n",
    "# Create a figure and axis for plotting\n",
    "# fig, ax = plt.subplots(1,1, figsize=(3,3))\n",
    "# prep_ax(ax)\n",
    "# ax.imshow(obs['image'])  # Assuming image has shape (C, H, W)\n",
    "# ax.set_title(f\"Reset: {env.task.goal()}\")\n",
    "\n",
    "def display(obs, reward, prime=False):\n",
    "    computed_r = (obs['state_features']*obs['task']).sum(-1)\n",
    "    suff = lambda x: x+\"'\" if prime else x\n",
    "\n",
    "    title = suff(\"s\")\n",
    "    title += f\" | r={reward}, r_={computed_r}\"\n",
    "    title += f\"\\n {str(obs['state_features'])}\"\n",
    "    fig, ax = plt.subplots(1,1, figsize=(3,3))\n",
    "    prep_ax(ax)\n",
    "    ax.imshow(obs['image'])  # Assuming image has shape (C, H, W)\n",
    "    ax.set_title(title)\n",
    "    plt.show()\n",
    "    plt.pause(0.1)  # Pause for a moment to display the image\n",
    "\n",
    "for _ in range(4):\n",
    "    obs, info = env.reset()\n",
    "    for t in range(100000):\n",
    "        if use_options:\n",
    "            actions = list(range(info['nactions']))\n",
    "        else:\n",
    "            nactions = env.action_space\n",
    "            actions = list(range(env.action_space.n))\n",
    "        action = random.choice(actions)\n",
    "        obs, reward, done, truncated, info = env.step(action)\n",
    "    \n",
    "        # if t % 500 == 0:\n",
    "        #     print(\"PERIODIC DISPLAY\", t)\n",
    "        #     display(obs, reward, prime=False)\n",
    "        if reward > 0.0 or done:\n",
    "            # Extract the image from the observation\n",
    "            print(\"=\"*50)\n",
    "            display(prior_obs, prior_reward, prime=False)\n",
    "            display(obs, reward, prime=True)\n",
    "            # fig, ax = plt.subplots(1,1, figsize=(3,3))\n",
    "            # prep_ax(ax)\n",
    "            # ax.imshow(prior_obs['image'])  # Assuming image has shape (C, H, W)\n",
    "            # ax.set_title(f\"s\")\n",
    "            \n",
    "            # Display the image with the action as the title\n",
    "        \n",
    "    \n",
    "            # display(obs, reward, prime=False)\n",
    "    \n",
    "            print(f\"{t}: reward: {reward} for {env.task.task_name}\")\n",
    "            print(f\"state-features: {obs['state_features']}\")\n",
    "            print(f\"task: {obs['task']}\")\n",
    "            print(f\"terminated: {done}\")\n",
    "            print(f\"truncated: {truncated}\")\n",
    "            # break\n",
    "            if done:\n",
    "                print(\"BREAKING\")\n",
    "                break\n",
    "    \n",
    "        prior_obs = obs\n",
    "        prior_reward = reward\n",
    "            \n",
    "    # Close the plot window at the end\n",
    "    plt.close()"
   ]
  },
  {
   "cell_type": "code",
   "execution_count": 52,
   "id": "30507e52-0bc2-401b-9f27-5c4b6425d221",
   "metadata": {},
   "outputs": [
    {
     "name": "stdout",
     "output_type": "stream",
     "text": [
      "purple, room = 0.0\n",
      "purple, box = 0.0\n",
      "purple, key = 1.0\n",
      "purple, ball = 0.0\n",
      "green, room = 0.0\n",
      "green, box = 0.0\n",
      "green, key = 0.0\n",
      "green, ball = 0.0\n",
      "red, room = 0.0\n",
      "red, box = 0.0\n",
      "red, key = 0.0\n",
      "red, ball = 0.0\n",
      "yellow, room = 0.0\n",
      "yellow, box = 0.0\n",
      "yellow, key = 0.0\n",
      "yellow, ball = 0.0\n",
      "start, room = 0.0\n",
      "start, box = 0.0\n",
      "start, key = 0.0\n",
      "start, ball = 0.0\n"
     ]
    }
   ],
   "source": [
    "env.task.print_task_array()"
   ]
  },
  {
   "cell_type": "code",
   "execution_count": 215,
   "id": "83620912-1852-4dc1-8c60-8a0f8b032589",
   "metadata": {},
   "outputs": [
    {
     "data": {
      "text/plain": [
       "[['ball', 'red'], ['key', 'purple'], ['box', 'yellow'], ['box', 'purple']]"
      ]
     },
     "execution_count": 215,
     "metadata": {},
     "output_type": "execute_result"
    }
   ],
   "source": [
    "env.unwrapped.all_final_objects"
   ]
  },
  {
   "cell_type": "code",
   "execution_count": 216,
   "id": "a19819fa-aa52-4746-975e-d2d1c5527f76",
   "metadata": {},
   "outputs": [
    {
     "data": {
      "text/plain": [
       "[['ball', 'red'],\n",
       " ['key', 'purple'],\n",
       " ['box', 'yellow'],\n",
       " ['box', 'purple'],\n",
       " ['key', 'red'],\n",
       " ['key', 'blue']]"
      ]
     },
     "execution_count": 216,
     "metadata": {},
     "output_type": "execute_result"
    }
   ],
   "source": [
    "env.unwrapped.all_possible_objects"
   ]
  },
  {
   "cell_type": "code",
   "execution_count": null,
   "id": "12b7d413-16e7-46d2-9a06-61b14223a721",
   "metadata": {},
   "outputs": [],
   "source": []
  }
 ],
 "metadata": {
  "kernelspec": {
   "display_name": "Python 3 (ipykernel)",
   "language": "python",
   "name": "python3"
  },
  "language_info": {
   "codemirror_mode": {
    "name": "ipython",
    "version": 3
   },
   "file_extension": ".py",
   "mimetype": "text/x-python",
   "name": "python",
   "nbconvert_exporter": "python",
   "pygments_lexer": "ipython3",
   "version": "3.9.18"
  }
 },
 "nbformat": 4,
 "nbformat_minor": 5
}
