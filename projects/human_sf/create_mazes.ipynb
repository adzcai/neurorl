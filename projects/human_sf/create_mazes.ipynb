{
 "cells": [
  {
   "cell_type": "code",
   "execution_count": 31,
   "id": "c0ce35e6-d58a-4d5e-a66f-4620a707cc16",
   "metadata": {},
   "outputs": [
    {
     "name": "stdout",
     "output_type": "stream",
     "text": [
      "Initial Keys:\n",
      "[('key', 'purple'), ('key', 'blue'), ('key', 'green'), ('key', 'yellow')]\n",
      "Sets of Pairs:\n",
      "[[('key', 'red'), ('ball', 'red')],\n",
      " [('box', 'red'), ('ball', 'blue')],\n",
      " [('box', 'yellow'), ('box', 'purple')],\n",
      " [('ball', 'green'), ('box', 'green')]]\n"
     ]
    }
   ],
   "source": [
    "import numpy as np\n",
    "import random\n",
    "\n",
    "# Colors and object types\n",
    "COLORS = {\n",
    "    \"red\": np.array([255, 0, 0]),\n",
    "    \"green\": np.array([0, 255, 0]),\n",
    "    \"blue\": np.array([0, 0, 255]),\n",
    "    \"purple\": np.array([112, 39, 195]),\n",
    "    \"yellow\": np.array([255, 255, 0]),\n",
    "    \"grey\": np.array([100, 100, 100]),\n",
    "}\n",
    "OBJECT_TYPES = [\"key\", \"ball\", \"box\"]\n",
    "\n",
    "# Function to create the maze\n",
    "def create_maze(colors, object_types):\n",
    "    # Select 4 random colors for initial keys\n",
    "    initial_key_colors = random.sample(colors, 4)\n",
    "    initial_keys = [(\"key\", color) for color in initial_key_colors]\n",
    "\n",
    "    # Create all possible pairs\n",
    "    all_pairs = [(obj_type, color) for obj_type in object_types for color in colors]\n",
    "\n",
    "    # Remove initial key pairs from all pairs\n",
    "    remaining_pairs = [pair for pair in all_pairs if pair not in initial_keys]\n",
    "\n",
    "    # Select 8 unique pairs from the remaining pairs\n",
    "    selected_pairs = random.sample(remaining_pairs, 8)\n",
    "\n",
    "    # Split into 4 sets of 2\n",
    "    sets_of_pairs = [selected_pairs[i:i+2] for i in range(0, len(selected_pairs), 2)]\n",
    "\n",
    "    return initial_keys, sets_of_pairs\n",
    "\n",
    "# Create the maze\n",
    "initial_keys, sets_of_pairs = create_maze(list(COLORS.keys()), OBJECT_TYPES)\n",
    "\n",
    "from pprint import pprint\n",
    "print(\"Initial Keys:\")\n",
    "pprint(initial_keys)\n",
    "print(\"Sets of Pairs:\")\n",
    "pprint(sets_of_pairs)\n"
   ]
  },
  {
   "cell_type": "code",
   "execution_count": 2,
   "id": "b2991e3a-cf51-47b7-bb7d-6c424606ea70",
   "metadata": {},
   "outputs": [
    {
     "name": "stdout",
     "output_type": "stream",
     "text": [
      "Initial Keys:\n",
      "[('key', 'grey'), ('key', 'green'), ('key', 'yellow'), ('key', 'purple')]\n",
      "Sets of Pairs:\n",
      "[(('ball', 'green'), ('box', 'red')),\n",
      " (('box', 'purple'), ('ball', 'grey')),\n",
      " (('box', 'yellow'), ('ball', 'purple')),\n",
      " (('key', 'red'), ('box', 'grey'))]\n"
     ]
    }
   ],
   "source": [
    "# this one has the test pairs overlap in shape/color with the keys/training pairs\n",
    "def create_maze_overlap(colors, object_types):\n",
    "    # Select 4 random colors for initial keys\n",
    "    initial_key_colors = random.sample(colors, 4)\n",
    "    initial_keys = [(\"key\", color) for color in initial_key_colors]\n",
    "\n",
    "    # Create all possible pairs\n",
    "    all_pairs = [(obj_type, color) for obj_type in object_types for color in colors]\n",
    "\n",
    "    # Remove initial key pairs from all pairs\n",
    "    remaining_pairs = [pair for pair in all_pairs if pair not in initial_keys]\n",
    "\n",
    "    # Select 4 unique pairs from the remaining pairs\n",
    "    first_selected_pairs = random.sample(remaining_pairs, 4)\n",
    "\n",
    "    # Observe types and colors from these pairs\n",
    "    observed_types = set([pair[0] for pair in first_selected_pairs+initial_keys])\n",
    "    observed_colors = set([pair[1] for pair in first_selected_pairs+initial_keys])\n",
    "\n",
    "    # Create possible pairs from observed types and colors\n",
    "    possible_new_pairs = [(obj_type, color) for obj_type in observed_types for color in observed_colors]\n",
    "\n",
    "    # Remove already selected pairs\n",
    "    new_pairs_candidates = [pair for pair in possible_new_pairs if pair not in first_selected_pairs and pair not in initial_keys]\n",
    "\n",
    "    # Select 4 unique pairs from new pairs candidates\n",
    "    second_selected_pairs = random.sample(new_pairs_candidates, 4)\n",
    "\n",
    "    # Interleave first and second pairs to form 4 sets of 2\n",
    "    sets_of_pairs = [(first_selected_pairs[i], second_selected_pairs[i]) for i in range(4)]\n",
    "\n",
    "    return initial_keys, sets_of_pairs\n",
    "\n",
    "# Create the maze\n",
    "initial_keys, sets_of_pairs = create_maze_overlap(list(COLORS.keys()), OBJECT_TYPES)\n",
    "\n",
    "from pprint import pprint\n",
    "print(\"Initial Keys:\")\n",
    "pprint(initial_keys)\n",
    "print(\"Sets of Pairs:\")\n",
    "pprint(sets_of_pairs)\n"
   ]
  },
  {
   "cell_type": "code",
   "execution_count": 32,
   "id": "d79ce16a-9579-4afc-831b-c04d096de551",
   "metadata": {},
   "outputs": [
    {
     "name": "stdout",
     "output_type": "stream",
     "text": [
      "[{'keys': [('key', 'grey'),\n",
      "           ('key', 'red'),\n",
      "           ('key', 'purple'),\n",
      "           ('key', 'yellow')],\n",
      "  'pairs': [[('box', 'blue'), ('ball', 'blue')],\n",
      "            [('box', 'purple'), ('box', 'green')],\n",
      "            [('ball', 'green'), ('box', 'yellow')],\n",
      "            [('key', 'blue'), ('key', 'green')]]},\n",
      " {'keys': [('key', 'green'),\n",
      "           ('key', 'blue'),\n",
      "           ('key', 'yellow'),\n",
      "           ('key', 'purple')],\n",
      "  'pairs': [[('box', 'yellow'), ('box', 'red')],\n",
      "            [('ball', 'yellow'), ('box', 'grey')],\n",
      "            [('ball', 'blue'), ('ball', 'red')],\n",
      "            [('box', 'green'), ('box', 'blue')]]},\n",
      " {'keys': [('key', 'grey'),\n",
      "           ('key', 'green'),\n",
      "           ('key', 'yellow'),\n",
      "           ('key', 'blue')],\n",
      "  'pairs': [[('box', 'green'), ('ball', 'yellow')],\n",
      "            [('box', 'purple'), ('ball', 'grey')],\n",
      "            [('box', 'red'), ('box', 'grey')],\n",
      "            [('ball', 'purple'), ('key', 'purple')]]},\n",
      " {'keys': [('key', 'blue'), ('key', 'red'), ('key', 'yellow'), ('key', 'grey')],\n",
      "  'pairs': [[('box', 'yellow'), ('box', 'purple')],\n",
      "            [('box', 'grey'), ('ball', 'green')],\n",
      "            [('ball', 'grey'), ('box', 'blue')],\n",
      "            [('ball', 'red'), ('ball', 'purple')]]},\n",
      " {'keys': [('key', 'red'),\n",
      "           ('key', 'yellow'),\n",
      "           ('key', 'blue'),\n",
      "           ('key', 'green')],\n",
      "  'pairs': [[('key', 'grey'), ('ball', 'grey')],\n",
      "            [('ball', 'green'), ('box', 'purple')],\n",
      "            [('box', 'blue'), ('ball', 'yellow')],\n",
      "            [('box', 'yellow'), ('ball', 'purple')]]}]\n",
      "Maze pairs saved to maze_pairs.json\n"
     ]
    }
   ],
   "source": [
    "import json\n",
    "\n",
    "def create_n_pairs_of_mazes(n, colors, object_types, create_fn=create_maze):\n",
    "    pairs_of_mazes = []\n",
    "\n",
    "    for _ in range(n):\n",
    "        # Generate a pair of unique mazes\n",
    "        init_keys, room_pairs = create_fn(colors, object_types)\n",
    "        \n",
    "        # Ensure uniqueness in the pair\n",
    "        while init_keys in pairs_of_mazes or room_pairs in pairs_of_mazes or init_keys == room_pairs:\n",
    "            init_keys, room_pairs = create_fn(colors, object_types)\n",
    "        \n",
    "        pairs_of_mazes.append({'keys': init_keys, 'pairs': room_pairs})\n",
    "\n",
    "    return pairs_of_mazes\n",
    "\n",
    "# ###########\n",
    "# # shared atributes\n",
    "# ###########\n",
    "# json_file = 'maze_pairs_shared.json'\n",
    "# create_fn = create_maze_overlap\n",
    "\n",
    "###########\n",
    "# regular\n",
    "###########\n",
    "json_file = 'maze_pairs.json'\n",
    "create_fn = create_maze\n",
    "\n",
    "###########\n",
    "\n",
    "\n",
    "# Example usage\n",
    "n = 5  # Number of pairs of mazes to generate\n",
    "maze_pairs = create_n_pairs_of_mazes(n, list(COLORS.keys()), OBJECT_TYPES, create_fn=create_fn)\n",
    "pprint(maze_pairs)\n",
    "# Save to a JSON file\n",
    "\n",
    "\n",
    "with open(json_file, 'w') as file:\n",
    "    json.dump(maze_pairs, file, indent=4)\n",
    "\n",
    "print(f'Maze pairs saved to {json_file}')\n"
   ]
  },
  {
   "cell_type": "code",
   "execution_count": 4,
   "id": "ef6947a8-42b6-4071-9244-96f7104124a2",
   "metadata": {},
   "outputs": [],
   "source": [
    "%load_ext autoreload\n",
    "%autoreload 2\n",
    "\n",
    "import sys\n",
    "sys.path.insert(0,'../..')"
   ]
  },
  {
   "cell_type": "code",
   "execution_count": 5,
   "id": "6ad9ca84-c678-4254-9276-7bb3906ad889",
   "metadata": {},
   "outputs": [
    {
     "name": "stdout",
     "output_type": "stream",
     "text": [
      "pygame 2.5.2 (SDL 2.28.3, Python 3.9.18)\n",
      "Hello from the pygame community. https://www.pygame.org/contribute.html\n",
      "{'keys': [['key', 'purple'],\n",
      "          ['key', 'yellow'],\n",
      "          ['key', 'grey'],\n",
      "          ['key', 'red']],\n",
      " 'pairs': [[['ball', 'green'], ['box', 'blue']],\n",
      "           [['ball', 'yellow'], ['box', 'green']],\n",
      "           [['ball', 'grey'], ['key', 'green']],\n",
      "           [['box', 'red'], ['ball', 'purple']]]}\n"
     ]
    },
    {
     "data": {
      "text/plain": [
       "[['ball', 'green'], ['ball', 'yellow'], ['ball', 'grey'], ['box', 'red']]"
      ]
     },
     "execution_count": 5,
     "metadata": {},
     "output_type": "execute_result"
    }
   ],
   "source": [
    "from projects.human_sf import key_room_v3 as key_room\n",
    "\n",
    "json_file = 'maze_pairs.json'\n",
    "with open(json_file, 'r') as file:\n",
    "    mazes = json.load(file)\n",
    "\n",
    "maze = mazes[0]\n",
    "pprint(maze)\n",
    "[p[0] for p in maze['pairs']]"
   ]
  },
  {
   "cell_type": "code",
   "execution_count": 6,
   "id": "a4d47a8d-c13a-4ba7-82be-cc9a4c09e7aa",
   "metadata": {},
   "outputs": [
    {
     "name": "stdout",
     "output_type": "stream",
     "text": [
      "{'keys': [['key', 'purple'],\n",
      "          ['key', 'yellow'],\n",
      "          ['key', 'grey'],\n",
      "          ['key', 'red']],\n",
      " 'pairs': [[['ball', 'green'], ['box', 'blue']],\n",
      "           [['ball', 'yellow'], ['box', 'green']],\n",
      "           [['ball', 'grey'], ['key', 'green']],\n",
      "           [['box', 'red'], ['ball', 'purple']]]}\n",
      "{'keys': [['key', 'purple'],\n",
      "          ['key', 'yellow'],\n",
      "          ['key', 'grey'],\n",
      "          ['key', 'red']],\n",
      " 'pairs': [[['ball', 'green'], ['box', 'green']],\n",
      "           [['ball', 'yellow'], ['box', 'blue']],\n",
      "           [['ball', 'grey'], ['key', 'green']],\n",
      "           [['box', 'red'], ['ball', 'purple']]]}\n"
     ]
    }
   ],
   "source": [
    "maze = mazes[0]\n",
    "pprint(maze)\n",
    "import copy\n",
    "maze_config = copy.deepcopy(maze)\n",
    "maze_config['pairs'][0][1], maze_config['pairs'][1][1] = maze_config['pairs'][1][1], maze_config['pairs'][0][1]\n",
    "pprint(maze_config)\n",
    "# new_maze=dict(\n",
    "#     keys=maze['keys'],\n",
    "#     pairs=[\n",
    "#         [maze['pairs'][0],\n",
    "#     ]\n",
    "# )\n",
    "# new_maze['keys'] = \n",
    "\n",
    "# pairs = maze['pairs']\n",
    "# pairs[0]"
   ]
  },
  {
   "cell_type": "code",
   "execution_count": 37,
   "id": "08169b8d-5978-4d09-9312-fb5f72476200",
   "metadata": {},
   "outputs": [
    {
     "name": "stdout",
     "output_type": "stream",
     "text": [
      "[['ball', 'green'], ['ball', 'yellow'], ['box', 'blue'], ['box', 'green']]\n"
     ]
    },
    {
     "name": "stderr",
     "output_type": "stream",
     "text": [
      "/Users/wilka/miniforge3/envs/humansf/lib/python3.9/site-packages/gymnasium/core.py:311: UserWarning: \u001b[33mWARN: env.all_final_objects to get variables from other wrappers is deprecated and will be removed in v1.0, to get this variable you can do `env.unwrapped.all_final_objects` for environment variables or `env.get_wrapper_attr('all_final_objects')` that will search the reminding wrappers.\u001b[0m\n",
      "  logger.warn(\n",
      "/Users/wilka/miniforge3/envs/humansf/lib/python3.9/site-packages/gymnasium/core.py:311: UserWarning: \u001b[33mWARN: env.get_frame to get variables from other wrappers is deprecated and will be removed in v1.0, to get this variable you can do `env.unwrapped.get_frame` for environment variables or `env.get_wrapper_attr('get_frame')` that will search the reminding wrappers.\u001b[0m\n",
      "  logger.warn(\n"
     ]
    },
    {
     "data": {
      "image/png": "[encoded data removed]",
      "text/plain": [
       "<Figure size 500x500 with 1 Axes>"
      ]
     },
     "metadata": {},
     "output_type": "display_data"
    }
   ],
   "source": [
    "import matplotlib.pyplot as plt\n",
    "import minigrid\n",
    "\n",
    "def plot_image(image, figsize=(5,5)):\n",
    "    fig, ax = plt.subplots(1,1, figsize=figsize)\n",
    "    # ax.clear()  # Clear the previous plot\n",
    "    # Remove ticks on both the x and y axes\n",
    "    ax.set_xticks([])\n",
    "    ax.set_yticks([])\n",
    "    \n",
    "    # Optionally, you can also remove the tick labels\n",
    "    ax.set_xticklabels([])\n",
    "    ax.set_yticklabels([])\n",
    "    ax.imshow(image)\n",
    "\n",
    "env = key_room.KeyRoom(\n",
    "    maze_config=mazes[0],\n",
    "    training=False,\n",
    "    swap_episodes=3,\n",
    "    num_dists=2,\n",
    "    num_task_rooms=2,\n",
    "    color_rooms=False,\n",
    "    basic_only=2,\n",
    "    flat_task=True)\n",
    "env = minigrid.wrappers.RGBImgObsWrapper(env, tile_size=12)\n",
    "\n",
    "print(env.all_final_objects)\n",
    "for _ in range(1):\n",
    "    obs, info = env.reset()\n",
    "    plot_image(obs['image'])  # Assuming image has shape (C, H, W)"
   ]
  },
  {
   "cell_type": "code",
   "execution_count": 13,
   "id": "0f8193e6-eab2-4d77-922f-975e77c64548",
   "metadata": {},
   "outputs": [
    {
     "name": "stdout",
     "output_type": "stream",
     "text": [
      "[0. 0. 0. 0. 0. 0. 0. 0. 0. 0. 0. 1. 0. 0. 0. 0. 0. 0. 0. 0.]\n",
      "blue, room = 0.0\n",
      "blue, box = 0.0\n",
      "blue, key = 0.0\n",
      "blue, ball = 0.0\n",
      "purple, room = 0.0\n",
      "purple, box = 0.0\n",
      "purple, key = 0.0\n",
      "purple, ball = 0.0\n",
      "green, room = 0.0\n",
      "green, box = 0.0\n",
      "green, key = 0.0\n",
      "green, ball = 1.0\n",
      "yellow, room = 0.0\n",
      "yellow, box = 0.0\n",
      "yellow, key = 0.0\n",
      "yellow, ball = 0.0\n",
      "start, room = 0.0\n",
      "start, box = 0.0\n",
      "start, key = 0.0\n",
      "start, ball = 0.0\n"
     ]
    },
    {
     "name": "stderr",
     "output_type": "stream",
     "text": [
      "/Users/wilka/miniforge3/envs/humansf/lib/python3.9/site-packages/gymnasium/core.py:311: UserWarning: \u001b[33mWARN: env.task to get variables from other wrappers is deprecated and will be removed in v1.0, to get this variable you can do `env.unwrapped.task` for environment variables or `env.get_wrapper_attr('task')` that will search the reminding wrappers.\u001b[0m\n",
      "  logger.warn(\n",
      "/Users/wilka/miniforge3/envs/humansf/lib/python3.9/site-packages/gymnasium/core.py:311: UserWarning: \u001b[33mWARN: env.all_objects to get variables from other wrappers is deprecated and will be removed in v1.0, to get this variable you can do `env.unwrapped.all_objects` for environment variables or `env.get_wrapper_attr('all_objects')` that will search the reminding wrappers.\u001b[0m\n",
      "  logger.warn(\n"
     ]
    },
    {
     "data": {
      "text/plain": [
       "[<minigrid.core.world_object.Ball at 0x16c29c220>,\n",
       " <minigrid.core.world_object.Ball at 0x16c46c3a0>,\n",
       " <minigrid.core.world_object.Box at 0x175336cd0>,\n",
       " <minigrid.core.world_object.Box at 0x175336a30>]"
      ]
     },
     "execution_count": 13,
     "metadata": {},
     "output_type": "execute_result"
    }
   ],
   "source": [
    "print(env.task.make_task_array())\n",
    "env.task.print_task_array()\n",
    "env.all_objects"
   ]
  },
  {
   "cell_type": "code",
   "execution_count": 30,
   "id": "192c5426-466a-4003-9e5e-23705ce64a4c",
   "metadata": {},
   "outputs": [
    {
     "name": "stderr",
     "output_type": "stream",
     "text": [
      "/Users/wilka/miniforge3/envs/humansf/lib/python3.9/site-packages/gymnasium/core.py:311: UserWarning: \u001b[33mWARN: env.get_frame to get variables from other wrappers is deprecated and will be removed in v1.0, to get this variable you can do `env.unwrapped.get_frame` for environment variables or `env.get_wrapper_attr('get_frame')` that will search the reminding wrappers.\u001b[0m\n",
      "  logger.warn(\n"
     ]
    },
    {
     "name": "stdout",
     "output_type": "stream",
     "text": [
      "==================================================\n"
     ]
    },
    {
     "data": {
      "image/png": "[encoded data removed]",
      "text/plain": [
       "<Figure size 300x300 with 1 Axes>"
      ]
     },
     "metadata": {},
     "output_type": "display_data"
    },
    {
     "data": {
      "image/png": "[encoded data removed]",
      "text/plain": [
       "<Figure size 300x300 with 1 Axes>"
      ]
     },
     "metadata": {},
     "output_type": "display_data"
    },
    {
     "name": "stderr",
     "output_type": "stream",
     "text": [
      "/Users/wilka/miniforge3/envs/humansf/lib/python3.9/site-packages/gymnasium/core.py:311: UserWarning: \u001b[33mWARN: env.task to get variables from other wrappers is deprecated and will be removed in v1.0, to get this variable you can do `env.unwrapped.task` for environment variables or `env.get_wrapper_attr('task')` that will search the reminding wrappers.\u001b[0m\n",
      "  logger.warn(\n",
      "/Users/wilka/miniforge3/envs/humansf/lib/python3.9/site-packages/gymnasium/core.py:311: UserWarning: \u001b[33mWARN: env.get_frame to get variables from other wrappers is deprecated and will be removed in v1.0, to get this variable you can do `env.unwrapped.get_frame` for environment variables or `env.get_wrapper_attr('get_frame')` that will search the reminding wrappers.\u001b[0m\n",
      "  logger.warn(\n"
     ]
    },
    {
     "name": "stdout",
     "output_type": "stream",
     "text": [
      "1657: reward: 0.1 for yellow ball\n",
      "state-features: [0. 0. 0. 0. 0. 0. 0. 0. 0. 0. 0. 0. 0. 0. 1. 0. 0. 0. 0. 0.]\n",
      "task: [0.  0.  0.  0.  0.  0.  0.  0.  0.  0.  0.  0.  0.5 0.  0.1 1.  0.  0.\n",
      " 0.  0. ]\n",
      "terminated: False\n",
      "truncated: False\n",
      "==================================================\n"
     ]
    },
    {
     "data": {
      "image/png": "[encoded data removed]",
      "text/plain": [
       "<Figure size 300x300 with 1 Axes>"
      ]
     },
     "metadata": {},
     "output_type": "display_data"
    },
    {
     "data": {
      "image/png": "[encoded data removed]",
      "text/plain": [
       "<Figure size 300x300 with 1 Axes>"
      ]
     },
     "metadata": {},
     "output_type": "display_data"
    },
    {
     "name": "stdout",
     "output_type": "stream",
     "text": [
      "6320: reward: 0.5 for yellow ball\n",
      "state-features: [ 0.  0.  0.  0.  0.  0.  0.  0.  0.  0.  0.  0.  1.  0.  0.  0. -0.  0.\n",
      "  0.  0.]\n",
      "task: [0.  0.  0.  0.  0.  0.  0.  0.  0.  0.  0.  0.  0.5 0.  0.1 1.  0.  0.\n",
      " 0.  0. ]\n",
      "terminated: False\n",
      "truncated: False\n",
      "==================================================\n"
     ]
    },
    {
     "name": "stderr",
     "output_type": "stream",
     "text": [
      "/Users/wilka/miniforge3/envs/humansf/lib/python3.9/site-packages/gymnasium/core.py:311: UserWarning: \u001b[33mWARN: env.task to get variables from other wrappers is deprecated and will be removed in v1.0, to get this variable you can do `env.unwrapped.task` for environment variables or `env.get_wrapper_attr('task')` that will search the reminding wrappers.\u001b[0m\n",
      "  logger.warn(\n",
      "/Users/wilka/miniforge3/envs/humansf/lib/python3.9/site-packages/gymnasium/core.py:311: UserWarning: \u001b[33mWARN: env.get_frame to get variables from other wrappers is deprecated and will be removed in v1.0, to get this variable you can do `env.unwrapped.get_frame` for environment variables or `env.get_wrapper_attr('get_frame')` that will search the reminding wrappers.\u001b[0m\n",
      "  logger.warn(\n"
     ]
    },
    {
     "data": {
      "image/png": "[encoded data removed]",
      "text/plain": [
       "<Figure size 300x300 with 1 Axes>"
      ]
     },
     "metadata": {},
     "output_type": "display_data"
    },
    {
     "data": {
      "image/png": "[encoded data removed]",
      "text/plain": [
       "<Figure size 300x300 with 1 Axes>"
      ]
     },
     "metadata": {},
     "output_type": "display_data"
    },
    {
     "name": "stdout",
     "output_type": "stream",
     "text": [
      "6328: reward: 0.0 for yellow ball\n",
      "state-features: [0. 0. 0. 0. 0. 0. 0. 0. 0. 1. 0. 0. 0. 0. 0. 0. 0. 0. 0. 0.]\n",
      "task: [0.  0.  0.  0.  0.  0.  0.  0.  0.  0.  0.  0.  0.5 0.  0.1 1.  0.  0.\n",
      " 0.  0. ]\n",
      "terminated: True\n",
      "truncated: False\n",
      "BREAKING\n"
     ]
    },
    {
     "name": "stderr",
     "output_type": "stream",
     "text": [
      "/Users/wilka/miniforge3/envs/humansf/lib/python3.9/site-packages/gymnasium/core.py:311: UserWarning: \u001b[33mWARN: env.task to get variables from other wrappers is deprecated and will be removed in v1.0, to get this variable you can do `env.unwrapped.task` for environment variables or `env.get_wrapper_attr('task')` that will search the reminding wrappers.\u001b[0m\n",
      "  logger.warn(\n"
     ]
    }
   ],
   "source": [
    "env = key_room.KeyRoom(\n",
    "    maze_config=mazes[0],\n",
    "    training=True,\n",
    "    swap_episodes=1_000_000,\n",
    "    num_dists=0,\n",
    "    max_steps_per_room=1_000_000,\n",
    "    num_task_rooms=2,\n",
    "    basic_only=False,\n",
    "    color_rooms=False,\n",
    "    flat_task=True)\n",
    "\n",
    "env = minigrid.wrappers.DictObservationSpaceWrapper(env)\n",
    "use_options=False\n",
    "if use_options:\n",
    "    env = custom_wrappers.GotoOptionsWrapper(env)\n",
    "# env = minigrid.wrappers.RGBImgPartialObsWrapper(env, tile_size=12)\n",
    "env = minigrid.wrappers.RGBImgObsWrapper(env, tile_size=12)\n",
    "\n",
    "def prep_ax(ax):\n",
    "    ax.clear()  # Clear the previous plot\n",
    "    # Remove ticks on both the x and y axes\n",
    "    ax.set_xticks([])\n",
    "    ax.set_yticks([])\n",
    "    \n",
    "    # Optionally, you can also remove the tick labels\n",
    "    ax.set_xticklabels([])\n",
    "    ax.set_yticklabels([])\n",
    "    \n",
    "\n",
    "obs, info = env.reset()\n",
    "# Create a figure and axis for plotting\n",
    "# fig, ax = plt.subplots(1,1, figsize=(3,3))\n",
    "# prep_ax(ax)\n",
    "# ax.imshow(obs['image'])  # Assuming image has shape (C, H, W)\n",
    "# ax.set_title(f\"Reset: {env.task.goal()}\")\n",
    "\n",
    "def display(obs, reward, prime=False):\n",
    "    computed_r = (obs['state_features']*obs['task']).sum(-1)\n",
    "    suff = lambda x: x+\"'\" if prime else x\n",
    "\n",
    "    title = suff(\"s\")\n",
    "    title += f\" | r={reward}, r_={computed_r}\"\n",
    "    title += f\"\\n {str(obs['state_features'])}\"\n",
    "    fig, ax = plt.subplots(1,1, figsize=(3,3))\n",
    "    prep_ax(ax)\n",
    "    ax.imshow(obs['image'])  # Assuming image has shape (C, H, W)\n",
    "    ax.set_title(title)\n",
    "    plt.show()\n",
    "    plt.pause(0.1)  # Pause for a moment to display the image\n",
    "\n",
    "for t in range(100000):\n",
    "    if use_options:\n",
    "        actions = list(range(info['nactions']))\n",
    "    else:\n",
    "        nactions = env.action_space\n",
    "        actions = list(range(env.action_space.n))\n",
    "    action = random.choice(actions)\n",
    "    obs, reward, done, truncated, info = env.step(action)\n",
    "\n",
    "    # if t % 500 == 0:\n",
    "    #     print(\"PERIODIC DISPLAY\", t)\n",
    "    #     display(obs, reward, prime=False)\n",
    "    if reward > 0.0 or done:\n",
    "        # Extract the image from the observation\n",
    "        print(\"=\"*50)\n",
    "        display(prior_obs, prior_reward, prime=False)\n",
    "        display(obs, reward, prime=True)\n",
    "        # fig, ax = plt.subplots(1,1, figsize=(3,3))\n",
    "        # prep_ax(ax)\n",
    "        # ax.imshow(prior_obs['image'])  # Assuming image has shape (C, H, W)\n",
    "        # ax.set_title(f\"s\")\n",
    "        \n",
    "        # Display the image with the action as the title\n",
    "    \n",
    "\n",
    "        # display(obs, reward, prime=False)\n",
    "\n",
    "        print(f\"{t}: reward: {reward} for {env.task.task_name}\")\n",
    "        print(f\"state-features: {obs['state_features']}\")\n",
    "        print(f\"task: {obs['task']}\")\n",
    "        print(f\"terminated: {done}\")\n",
    "        print(f\"truncated: {truncated}\")\n",
    "        # break\n",
    "        if done:\n",
    "            print(\"BREAKING\")\n",
    "            break\n",
    "\n",
    "    prior_obs = obs\n",
    "    prior_reward = reward\n",
    "        \n",
    "# Close the plot window at the end\n",
    "plt.close()"
   ]
  },
  {
   "cell_type": "code",
   "execution_count": 215,
   "id": "83620912-1852-4dc1-8c60-8a0f8b032589",
   "metadata": {},
   "outputs": [
    {
     "data": {
      "text/plain": [
       "[['ball', 'red'], ['key', 'purple'], ['box', 'yellow'], ['box', 'purple']]"
      ]
     },
     "execution_count": 215,
     "metadata": {},
     "output_type": "execute_result"
    }
   ],
   "source": [
    "env.unwrapped.all_final_objects"
   ]
  },
  {
   "cell_type": "code",
   "execution_count": 216,
   "id": "a19819fa-aa52-4746-975e-d2d1c5527f76",
   "metadata": {},
   "outputs": [
    {
     "data": {
      "text/plain": [
       "[['ball', 'red'],\n",
       " ['key', 'purple'],\n",
       " ['box', 'yellow'],\n",
       " ['box', 'purple'],\n",
       " ['key', 'red'],\n",
       " ['key', 'blue']]"
      ]
     },
     "execution_count": 216,
     "metadata": {},
     "output_type": "execute_result"
    }
   ],
   "source": [
    "env.unwrapped.all_possible_objects"
   ]
  },
  {
   "cell_type": "code",
   "execution_count": null,
   "id": "12b7d413-16e7-46d2-9a06-61b14223a721",
   "metadata": {},
   "outputs": [],
   "source": []
  }
 ],
 "metadata": {
  "kernelspec": {
   "display_name": "Python 3 (ipykernel)",
   "language": "python",
   "name": "python3"
  },
  "language_info": {
   "codemirror_mode": {
    "name": "ipython",
    "version": 3
   },
   "file_extension": ".py",
   "mimetype": "text/x-python",
   "name": "python",
   "nbconvert_exporter": "python",
   "pygments_lexer": "ipython3",
   "version": "3.9.18"
  }
 },
 "nbformat": 4,
 "nbformat_minor": 5
}
