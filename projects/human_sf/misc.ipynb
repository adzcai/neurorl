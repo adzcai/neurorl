{
 "cells": [
  {
   "cell_type": "code",
   "execution_count": 19,
   "id": "63ba0f0b-0fbb-4f96-8271-193331377f2c",
   "metadata": {},
   "outputs": [
    {
     "data": {
      "text/plain": [
       "array([0.97723722, 0.77823563, 0.61975812, 0.49355247, 0.39304696,\n",
       "       0.31300809, 0.24926808, 0.19850789, 0.15808435, 0.12589254])"
      ]
     },
     "execution_count": 19,
     "metadata": {},
     "output_type": "execute_result"
    }
   ],
   "source": [
    "import numpy as np\n",
    "# import jax\n",
    "num_epsilons: int = 10\n",
    "evaluation_epsilon: float = 0.01\n",
    "epsilon_min: float = .01\n",
    "epsilon_max: float = .9\n",
    "epsilon_base: float = .1\n",
    "\n",
    "np.logspace(\n",
    "                                    start=epsilon_min,\n",
    "                                    stop=epsilon_max,\n",
    "                                    num=num_epsilons,\n",
    "                                    base=epsilon_base)"
   ]
  },
  {
   "cell_type": "code",
   "execution_count": 27,
   "id": "4b47c085-7040-4f00-ab33-818db487f8da",
   "metadata": {},
   "outputs": [
    {
     "data": {
      "text/plain": [
       "{('red', 'key'): 0,\n",
       " ('red', 'task_room'): 1,\n",
       " ('red', 'ball'): 2,\n",
       " ('red', 'box'): 3,\n",
       " ('green', 'key'): 4,\n",
       " ('green', 'task_room'): 5,\n",
       " ('green', 'ball'): 6,\n",
       " ('green', 'box'): 7}"
      ]
     },
     "execution_count": 27,
     "metadata": {},
     "output_type": "execute_result"
    }
   ],
   "source": [
    "import itertools \n",
    "\n",
    "type2indx = {\n",
    "   'key': 0,\n",
    "   'task_room': 1,\n",
    "   'ball': 2,\n",
    "   'box': 3,\n",
    "}\n",
    "floor2task_color = {\n",
    "    'blue': 'red',\n",
    "    'yellow': 'green',\n",
    "}\n",
    "\n",
    "types = type2indx.keys()\n",
    "colors = floor2task_color.values()\n",
    "\n",
    "task2indx = {}\n",
    "for idx, (color, shape) in enumerate(itertools.product(colors, types)):\n",
    "    task2indx[(color, shape)] = idx\n",
    "\n",
    "task2indx"
   ]
  },
  {
   "cell_type": "code",
   "execution_count": null,
   "id": "2c079b69-e584-42d3-b797-24139a77a838",
   "metadata": {},
   "outputs": [],
   "source": []
  }
 ],
 "metadata": {
  "kernelspec": {
   "display_name": "Python 3 (ipykernel)",
   "language": "python",
   "name": "python3"
  },
  "language_info": {
   "codemirror_mode": {
    "name": "ipython",
    "version": 3
   },
   "file_extension": ".py",
   "mimetype": "text/x-python",
   "name": "python",
   "nbconvert_exporter": "python",
   "pygments_lexer": "ipython3",
   "version": "3.9.18"
  }
 },
 "nbformat": 4,
 "nbformat_minor": 5
}
